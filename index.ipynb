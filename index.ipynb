{
 "cells": [
  {
   "cell_type": "markdown",
   "metadata": {},
   "source": [
    "## Notebooks de introducción a Python\n",
    "\n",
    "1. [Introducción](01_Introduccion.ipynb)\n",
    "2. [Elementos distintivos de la sintaxis](02_Elementos_distintivos_de_la_sintaxis.ipynb)\n",
    "3. [Estructuras de datos](03_Estructuras_de_datos.ipynb)\n",
    "4. [Estructuras de control y decisión](04_Estructuras_de_control_y_decision.ipynb)\n",
    "5. [Funciones](05_Funciones.ipynb)\n",
    "6. [Clases](06_Una_clase_de_clases.ipynb)\n",
    "7. [NumPy y OpenCv](07_NumPy_y_OpenCv.ipynb)\n",
    "8. [Buenos links con recursos didacticos para Python](08_Buenos_links_con_recursos_didacticos_para_Python.md)\n",
    "9. [Ejercicios](99_Ejercicios.ipynb)"
   ]
  },
  {
   "cell_type": "code",
   "execution_count": null,
   "metadata": {},
   "outputs": [],
   "source": []
  }
 ],
 "metadata": {
  "interpreter": {
   "hash": "04635d289a519a1410467dd0afb0db42f9184808881ca68b2eb5a687a20a5a94"
  },
  "kernelspec": {
   "display_name": "Python 3",
   "language": "python",
   "name": "python3"
  },
  "language_info": {
   "codemirror_mode": {
    "name": "ipython",
    "version": 3
   },
   "file_extension": ".py",
   "mimetype": "text/x-python",
   "name": "python",
   "nbconvert_exporter": "python",
   "pygments_lexer": "ipython3",
   "version": "3.7.7"
  }
 },
 "nbformat": 4,
 "nbformat_minor": 2
}

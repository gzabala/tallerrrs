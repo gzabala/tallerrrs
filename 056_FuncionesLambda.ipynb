{
 "cells": [
  {
   "cell_type": "markdown",
   "metadata": {},
   "source": [
    "## Funciones lambda\n",
    "\n",
    "Las funciones lambda son funciones anónimas (sin nombre) que se pueden definir en una sola línea. Son útiles para definir funciones simples y rápidas sin necesidad de definir una función completa, y meterlas dentro de una función que necesita de una función como argumento."
   ]
  },
  {
   "cell_type": "code",
   "execution_count": 2,
   "metadata": {},
   "outputs": [
    {
     "name": "stdout",
     "output_type": "stream",
     "text": [
      "['hola', 'adios', 'buenos dias', 'buenas noches']\n"
     ]
    }
   ],
   "source": [
    "def segundaLetra(cadena):\n",
    "    return cadena[1]\n",
    "\n",
    "def largo(cadena):\n",
    "    return len(cadena)\n",
    "\n",
    "ejemplo=[\"hola\",\"adios\",\"buenos dias\",\"buenas noches\"]\n",
    "# Cuando hago un sort puedo indicar una función que se encargue de comparar los elementos. Aplica la función a cada elemento de la colección que ordena\n",
    "ejemplo.sort(key=largo)\n",
    "print(ejemplo)"
   ]
  },
  {
   "cell_type": "code",
   "execution_count": 6,
   "metadata": {},
   "outputs": [
    {
     "name": "stdout",
     "output_type": "stream",
     "text": [
      "['adios', 'hola', 'buenos dias', 'buenas noches']\n",
      "['hola', 'adios', 'buenos dias', 'buenas noches']\n"
     ]
    }
   ],
   "source": [
    "#Usando una función lambda\n",
    "\n",
    "ejemplo=[\"hola\",\"adios\",\"buenos dias\",\"buenas noches\"]\n",
    "ejemplo.sort(key=lambda x: x[1])\n",
    "print(ejemplo)\n",
    "ejemplo.sort(key=lambda cadena: len(cadena))\n",
    "print(ejemplo)\n"
   ]
  },
  {
   "cell_type": "markdown",
   "metadata": {},
   "source": [
    "### Función map nos permite aplicar una función a cada elemento de una colección"
   ]
  },
  {
   "cell_type": "code",
   "execution_count": 7,
   "metadata": {},
   "outputs": [
    {
     "name": "stdout",
     "output_type": "stream",
     "text": [
      "<map object at 0x00000232531284C0>\n",
      "[4, 5, 11, 13]\n"
     ]
    }
   ],
   "source": [
    "ejemplo=[\"hola\",\"adios\",\"buenos dias\",\"buenas noches\"]\n",
    "# Va a aplicar len a cada elemento de la lista\n",
    "resultado=map(len,ejemplo)\n",
    "# Lo que me devuelve es un map, para convertirlo a la colección que quiero, debo usar el conversor list, tupla, etc...\n",
    "print(resultado)\n",
    "print(list(resultado))\n"
   ]
  },
  {
   "cell_type": "code",
   "execution_count": 13,
   "metadata": {},
   "outputs": [
    {
     "name": "stdout",
     "output_type": "stream",
     "text": [
      "<map object at 0x000002325325B3A0>\n",
      "['l', 'i', 'e', 'e']\n",
      "['aloh', 'soida', 'said soneub', 'sehcon saneub']\n"
     ]
    }
   ],
   "source": [
    "ejemplo=[\"hola\",\"adios\",\"buenos dias\",\"buenas noches\"]\n",
    "# Va a aplicar len a cada elemento de la lista\n",
    "resultado=map(lambda cade: cade[2],ejemplo)\n",
    "# Lo que me devuelve es un map, para convertirlo a la colección que quiero, debo usar el conversor list, tupla, etc...\n",
    "print(resultado)\n",
    "print(list(resultado))\n",
    "resultado=map(lambda cade: cade[::-1], ejemplo)\n",
    "print(list(resultado))"
   ]
  },
  {
   "cell_type": "code",
   "execution_count": 14,
   "metadata": {},
   "outputs": [
    {
     "name": "stdout",
     "output_type": "stream",
     "text": [
      "['holahola', 'adiosadios', 'buenos diasbuenos dias', 'buenas nochesbuenas noches']\n"
     ]
    }
   ],
   "source": [
    "# las funciones lambda nos vienen genial acá\n",
    "ejemplo=[\"hola\",\"adios\",\"buenos dias\",\"buenas noches\"]\n",
    "resultado=map(lambda x: x*2,ejemplo)\n",
    "print(list(resultado))"
   ]
  },
  {
   "cell_type": "markdown",
   "metadata": {},
   "source": [
    "### Función filter nos permite filtrar los elementos de una colección. También está buenísimo lambda para esto"
   ]
  },
  {
   "cell_type": "code",
   "execution_count": 17,
   "metadata": {},
   "outputs": [
    {
     "name": "stdout",
     "output_type": "stream",
     "text": [
      "[54, 12, 88]\n",
      "<filter object at 0x000002325325C3D0>\n",
      "[54, 88, 99, 123]\n"
     ]
    }
   ],
   "source": [
    "numeros=[54,33,12,88,99,123]\n",
    "pares=filter(lambda x: x%2==0,numeros)\n",
    "print(list(pares))\n",
    "mayores=filter(lambda x: x>50,numeros)\n",
    "print(mayores)\n",
    "print(list(mayores))"
   ]
  },
  {
   "cell_type": "code",
   "execution_count": 23,
   "metadata": {},
   "outputs": [
    {
     "name": "stdout",
     "output_type": "stream",
     "text": [
      "7\n"
     ]
    }
   ],
   "source": [
    "#Ejemplo de un ejercicios de funciones\n",
    "# Dada una lista y un número devolver el que tiene menor diferencia con el número\n",
    "# abs(valor) devuelve el valor sin signo (valor absoluto)\n",
    "def masCercano(lista, numero):\n",
    "    # ordenar=sorted(lista,key=lambda x: abs(x-numero))\n",
    "    # return ordenar[0]\n",
    "    return min(lista,key=lambda x: abs(x-numero))\n",
    "    \n",
    "\n",
    "print(masCercano([1,2,3,4,5,6,7,8,9,10],7.5))"
   ]
  }
 ],
 "metadata": {
  "kernelspec": {
   "display_name": "Python 3",
   "language": "python",
   "name": "python3"
  },
  "language_info": {
   "codemirror_mode": {
    "name": "ipython",
    "version": 3
   },
   "file_extension": ".py",
   "mimetype": "text/x-python",
   "name": "python",
   "nbconvert_exporter": "python",
   "pygments_lexer": "ipython3",
   "version": "3.10.10"
  }
 },
 "nbformat": 4,
 "nbformat_minor": 2
}

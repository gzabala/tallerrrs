{
 "cells": [
  {
   "cell_type": "markdown",
   "metadata": {},
   "source": [
    "# Errores y excepciones\n",
    "\n",
    "En este contexto, llamaremos ***excepción*** al error que se produce en tiempo de ejecución y detiene el programa. En un lenguaje con tipado dinámico, esto puede ser bastante habitual, al enviar un mensaje a un objeto que no sabe cómo responder (y eso se sabe sólo en tiempo de ejecución). Dejamos afuera los errores de sintaxis (no son excepciones), que el intérprete los resuelve cuando hace el parseo.\n"
   ]
  },
  {
   "cell_type": "code",
   "execution_count": null,
   "metadata": {},
   "outputs": [],
   "source": [
    "import random\n",
    "moneda=random.randint(0,1)\n",
    "\n",
    "if moneda==1:\n",
    "    var=3\n",
    "else:\n",
    "    var=\"casa\"\n",
    "print(10%var)\n"
   ]
  },
  {
   "cell_type": "code",
   "execution_count": null,
   "metadata": {},
   "outputs": [],
   "source": [
    "otraMoneda=random.randint(0,1)\n",
    "# veamos qué error me da cada una de estas sentencias\n",
    "#rint(100/otraMoneda) \n",
    "#rint(200+interes)\n",
    "print(\"casa\"+24)"
   ]
  },
  {
   "cell_type": "markdown",
   "metadata": {},
   "source": [
    "Al producirse la excepción, aparece en primer caso el tipo de error, y posteriormente un mensaje asociado.  \n",
    "También presenta la pila de llamadas hasta llegar a la sentencia que produjo el error."
   ]
  },
  {
   "cell_type": "code",
   "execution_count": null,
   "metadata": {},
   "outputs": [],
   "source": [
    "# En este caso podemos ver la pila de llamadas hasta llegar al código que produjo el error.\n",
    "def produceError():\n",
    "    print(1/0)\n",
    "\n",
    "produceError()"
   ]
  },
  {
   "cell_type": "markdown",
   "metadata": {},
   "source": [
    "Si nos interesa capturar el error, y realizar alguna acción pertinente que evite la detención de la ejecución del programa, utilizamos la siguiente estructura:\n",
    ">try:  \n",
    ">  *código que puede genera la excepción*  \n",
    ">except *tipo de error a atender*:  \n",
    ">  *código que atiende el error*  \n",
    ">except *otro tipo de error a atender*:  \n",
    ">  *código que atiende este otro tipo de error*  \n",
    ">except:  \n",
    ">  *código que atiende cualquier otro tipo de error. Este except debe estar luego de los específicos*  \n",
    ">else:  \n",
    ">  *código que se ejecuta si no hay excepción*  \n",
    ">finally:  \n",
    ">  *código que se ejecuta haya habido o no error*  \n",
    "\n",
    "En un except puedo abarcar varios tipos de error. Los debo listar entre paréntesis."
   ]
  },
  {
   "cell_type": "code",
   "execution_count": null,
   "metadata": {},
   "outputs": [],
   "source": [
    "lista =[5, 3, 10, 'a', 0, 2]\n",
    "for num in lista:\n",
    "    try:\n",
    "        print(f\"El inverso de {num} es {1/num}\")\n",
    "    except:\n",
    "        print(f\"El valor {num} no tiene inverso\")\n"
   ]
  },
  {
   "cell_type": "code",
   "execution_count": null,
   "metadata": {},
   "outputs": [],
   "source": [
    "# Podemos obtener el objeto de la clase error que produjo la excepcion\n",
    "lista =[5, 3, 10, 'a', 0, 2]\n",
    "for num in lista:\n",
    "    try:\n",
    "        print(f\"El inverso de {num} es {1/num}\")\n",
    "    except Exception as ex:\n",
    "        print(f\"El error que se produjo es {ex}\")\n",
    "        print(f\"También puedo ver la clase {type(ex)}\")"
   ]
  },
  {
   "cell_type": "code",
   "execution_count": null,
   "metadata": {},
   "outputs": [],
   "source": [
    "# Aquí vemos como separar los except según el tipo\n",
    "lista =[5, 3, 10, 'a', 0, 2]\n",
    "for num in lista:\n",
    "    try:\n",
    "        print(f\"El inverso de {num} es {1/num}\")\n",
    "    except TypeError:\n",
    "        print(f\"El tipo de {num} no es correcto\")\n",
    "    except ZeroDivisionError:\n",
    "        print(\"No puedo dividir por cero\")"
   ]
  },
  {
   "cell_type": "code",
   "execution_count": null,
   "metadata": {},
   "outputs": [],
   "source": [
    "#Uso del else \n",
    "capacidad=0\n",
    "precio=25\n",
    "try:\n",
    "    valorPorCapacidad=precio/capacidad\n",
    "except ZeroDivisionError:\n",
    "    print(\"No se puede calcular el precio por capacidad porque no tengo este último dato\")\n",
    "else:\n",
    "    print(f\"El precio por capacidad es: {valorPorCapacidad}\")\n",
    "print(\"Terminé\")"
   ]
  },
  {
   "cell_type": "code",
   "execution_count": null,
   "metadata": {},
   "outputs": [],
   "source": [
    "# Como verán, el manejo de excepciones permite que el programa no se detenga. \n",
    "# Si yo quiero que el programa sí o sí pare, debo lanzar una excepción nuevamente con el comando raise\n",
    "capacidad=0\n",
    "precio=25\n",
    "try:\n",
    "    valorPorCapacidad=precio/capacidad\n",
    "except ZeroDivisionError:\n",
    "    print(\"No se puede calcular el precio por capacidad porque no tengo este último dato\")\n",
    "    raise\n",
    "else:\n",
    "    print(\"El precio por capacidad es: {}\".format(valorPorCapacidad))\n",
    "print(\"Terminé\")"
   ]
  },
  {
   "cell_type": "code",
   "execution_count": null,
   "metadata": {},
   "outputs": [],
   "source": [
    "# Luego de la ejecución del código dentro del try, puedo necesitar cerrar esa ejecución, \n",
    "# sin importar si dio error o no, antes de salir del try. Para eso usaremos el bloque finally: dentro de try:\n",
    "\n",
    "valor=0\n",
    "try:\n",
    "    resu=123/valor\n",
    "except ZeroDivisionError:\n",
    "    print(\"No puedo dividor por cero\")\n",
    "    raise\n",
    "else:\n",
    "    print(resu)\n",
    "finally:\n",
    "    print(\"No importa qué pasó, esto se ejecuta igual\")"
   ]
  },
  {
   "cell_type": "code",
   "execution_count": null,
   "metadata": {},
   "outputs": [],
   "source": [
    "#Alguno puede pensar con razón que podíamos poner el código fuera del try (porque se ejecuta sí o sí)\n",
    "valor=0\n",
    "try:\n",
    "    resu=123/valor\n",
    "except ZeroDivisionError:\n",
    "    print(\"No puedo dividir por cero\")\n",
    "    raise\n",
    "else:\n",
    "    print(resu)\n",
    "\n",
    "print(\"No importa qué pasó, esto se ejecuta igual\")\n",
    "\n",
    "# PEEEROOOO, a alguien se le ocurre cuando sí puede llegar a ser útil???"
   ]
  },
  {
   "cell_type": "markdown",
   "metadata": {},
   "source": [
    "## Lanzamiento explícito de excepciones y asserts  \n",
    "\n",
    "Si por algún motivo queremos lanzar una excepción explícitamente, usamos el comando **raise** ya visto, al cual le indicamos la clase del error (y entre paréntesis podemos definir un mensaje de salida del error)"
   ]
  },
  {
   "cell_type": "code",
   "execution_count": null,
   "metadata": {},
   "outputs": [],
   "source": [
    "try:\n",
    "    raise OSError(\"Error lanzado por mí\")\n",
    "except NameError as err:\n",
    "    print(f\"Capturé el error NameError que es un {err}\")\n",
    "except OSError as err:\n",
    "    print(f\"Este es un error de tipo OSError y también es un {err}\")\n",
    "finally:\n",
    "    print(\"Esto se ejecuta antes de salir del try\")"
   ]
  },
  {
   "cell_type": "code",
   "execution_count": null,
   "metadata": {},
   "outputs": [],
   "source": [
    "import random\n",
    "def foo():\n",
    "    #Ante alguna cuestión decido lanzar la excepcion\n",
    "    moneda=random.randint(0,1)\n",
    "    if moneda:\n",
    "        raise OSError(\"Error\")\n",
    "\n",
    "try:\n",
    "    foo()\n",
    "except:\n",
    "    print(\"Hubo un error\")\n",
    "else:\n",
    "    print(\"foo terminó tranquilita\")"
   ]
  },
  {
   "cell_type": "markdown",
   "metadata": {},
   "source": [
    "## Uso de excepciones para testing\n",
    "\n",
    "En el momento de desarrollo, el lanzamiento de excepciones puede ser útil para detectar errores lógicos o semánticos, es decir, pre o postcondiciones que de no cumplirse, estarían indicando un mal funcionamiento de nuestro código. Para ello, podemos utilizar el comando ***assert***  \n",
    "  \n",
    "> assert *expresión booleana que debería ser verdadera*, *mensaje de error que lanza si no se cumple*  \n",
    "\n",
    "Si en la ejecución pasamos como parámetro -O, deshabilita los asserts.\n"
   ]
  },
  {
   "cell_type": "code",
   "execution_count": null,
   "metadata": {},
   "outputs": [],
   "source": [
    "import random\n",
    "def foo():\n",
    "    return random.randint(-1,1)\n",
    "\n",
    "valor=foo()\n",
    "# El valor debería ser mayor o igual a cero, si no, avisame\n",
    "assert valor>=0, f\"foo volvió con un valor negativo: {valor}\"\n",
    "print(\"Todo estuvo ok\")\n"
   ]
  },
  {
   "cell_type": "code",
   "execution_count": null,
   "metadata": {},
   "outputs": [],
   "source": []
  }
 ],
 "metadata": {
  "kernelspec": {
   "display_name": "Python 3",
   "language": "python",
   "name": "python3"
  },
  "language_info": {
   "codemirror_mode": {
    "name": "ipython",
    "version": 3
   },
   "file_extension": ".py",
   "mimetype": "text/x-python",
   "name": "python",
   "nbconvert_exporter": "python",
   "pygments_lexer": "ipython3",
   "version": "3.7.7"
  }
 },
 "nbformat": 4,
 "nbformat_minor": 4
}

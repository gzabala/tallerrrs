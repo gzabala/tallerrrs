{
 "cells": [
  {
   "cell_type": "markdown",
   "id": "fabulous-wealth",
   "metadata": {},
   "source": [
    "# NumPy  \n",
    "  \n",
    "Es una librería para trabajar con vectores y matrices multidimensionales, con una colección de funciones matemáticas\n",
    "poderosas.  \n",
    "  \n",
    "Su estructura de datos fundamental es *ndarray* que permite configurar una matriz de *n* dimensiones. La matriz debe ser homogénea.\n",
    "\n",
    "## Instalación\n",
    "\n",
    "pip install numpy\n",
    "\n",
    "## Creación de un ndarray\n",
    "\n",
    "np.array(*secuencia*)"
   ]
  },
  {
   "cell_type": "code",
   "execution_count": 3,
   "id": "surface-failing",
   "metadata": {},
   "outputs": [
    {
     "name": "stdout",
     "output_type": "stream",
     "text": [
      "[1.2 3.  5.4]\n",
      "float64\n"
     ]
    }
   ],
   "source": [
    "import numpy as np\n",
    "# vec=np.array([2,4,8,3])\n",
    "# print(vec)\n",
    "# print(type(vec))\n",
    "# print(vec.dtype) # tipo de dato que almacena el array\n",
    "vec=np.array([1.2,3,5.4])\n",
    "print(vec)\n",
    "print(vec.dtype)"
   ]
  },
  {
   "cell_type": "code",
   "execution_count": 4,
   "id": "7c972aa8",
   "metadata": {},
   "outputs": [
    {
     "name": "stdout",
     "output_type": "stream",
     "text": [
      "['15' 'casa' '33' '1.2' 'True' '(1+5j)']\n",
      "<U64\n"
     ]
    }
   ],
   "source": [
    "# En un array de np todos los elementos deben ser del mismo tipo. Y si no, se convierten a un tipo común\n",
    "vec2=np.array([15,\"casa\", 33, 1.2, True, 1+5j])\n",
    "print(vec2)\n",
    "print(vec2.dtype)"
   ]
  },
  {
   "cell_type": "markdown",
   "id": "permanent-blowing",
   "metadata": {},
   "source": [
    "Transforma secuencias de secuencias en un array de 2 dimensiones, secuencias de secuencias de secuencias en uno de 3 y así sucesivamente:"
   ]
  },
  {
   "cell_type": "code",
   "execution_count": 6,
   "id": "prepared-conviction",
   "metadata": {},
   "outputs": [
    {
     "name": "stdout",
     "output_type": "stream",
     "text": [
      "[[1 4 2]\n",
      " [4 5 3]]\n",
      "---\n",
      "[[[1 2]\n",
      "  [4 3]\n",
      "  [5 3]]\n",
      "\n",
      " [[8 9]\n",
      "  [2 6]\n",
      "  [2 1]]]\n"
     ]
    }
   ],
   "source": [
    "import numpy as np\n",
    "dosD=np.array([[1,4,2], [4,5,3]])\n",
    "print(dosD)\n",
    "print(\"---\")\n",
    "tresD=np.array((((1,2),(4,3),(5,3)),((8,9),(2,6),(2,1))))\n",
    "print(tresD)"
   ]
  },
  {
   "cell_type": "markdown",
   "id": "corresponding-leadership",
   "metadata": {},
   "source": [
    "Podemos declarar el tipo en su constructor:"
   ]
  },
  {
   "cell_type": "code",
   "execution_count": 7,
   "id": "united-national",
   "metadata": {},
   "outputs": [
    {
     "name": "stdout",
     "output_type": "stream",
     "text": [
      "[1 5 2 3]\n",
      "[1. 5. 2. 3.]\n",
      "[1.+0.j 5.+0.j 2.+0.j 3.+0.j]\n",
      "[1 2 5]\n"
     ]
    }
   ],
   "source": [
    "import numpy as np\n",
    "entero=np.array([1,5,2,3], dtype=\"int32\")\n",
    "print(entero)\n",
    "flotante=np.array([1,5,2,3], dtype=\"float64\")\n",
    "print(flotante)\n",
    "complejo=np.array([1,5,2,3], dtype=\"complex\")\n",
    "print(complejo)\n",
    "alreves=np.array([1.3, 2.4, 5.5], dtype=\"int32\")\n",
    "print(alreves)"
   ]
  },
  {
   "cell_type": "markdown",
   "id": "supported-lingerie",
   "metadata": {},
   "source": [
    "Y si ya tenía las listas, con lo cual puedo hacer un array usando una lista, una matriz 2D usando una lista de listas, y así sucesivamente, ¿para qué tengo numpy? Porque tengo unas operaciones impresionantes!"
   ]
  },
  {
   "cell_type": "code",
   "execution_count": 48,
   "id": "southern-miami",
   "metadata": {},
   "outputs": [
    {
     "name": "stdout",
     "output_type": "stream",
     "text": [
      "(10,)\n",
      "Vector: [66 98 84 89 96 57 52 36 46 60]\n",
      "Vector2: [98 83 91 14 28 67 17  2 47 37]\n",
      "Vector con elementos duplicados: [132 196 168 178 192 114 104  72  92 120]\n",
      "Suma de los elementos de Vector: 684\n",
      "Media del Vector: 68.4\n",
      "Suma de vectores: [164 181 175 103 124 124  69  38  93  97]\n",
      "Un slice: [14 28 67]\n"
     ]
    }
   ],
   "source": [
    "import numpy as np\n",
    "vector=np.random.randint(1, 100, 10) #Generación de arrays con valores aleatorios randint(numini, numfin, cantidad)\n",
    "vector2=np.random.randint(1, 100, 10)\n",
    "print(vector.shape)\n",
    "\n",
    "print(f\"Vector: {vector}\")\n",
    "print(f\"Vector2: {vector2}\")\n",
    "print(f\"Vector con elementos duplicados: {vector*2}\")\n",
    "print(f\"Suma de los elementos de Vector: {np.sum(vector)}\")\n",
    "print(f\"Media del Vector: {np.mean(vector)}\")\n",
    "print(f\"Suma de vectores: {vector+vector2}\")\n",
    "print(f\"Un slice: {vector2[3:6]}\")"
   ]
  },
  {
   "cell_type": "markdown",
   "id": "opposed-calvin",
   "metadata": {},
   "source": [
    "El manejo de los slices del vector se realiza de la misma manera que con las secuencias *[inicio:fin]*\n",
    "\n",
    "## Matrices\n",
    "\n",
    "Las puedo crear con listas de listas, o listas de listas de listas, y así sucesivamente según la cantidad de dimensiones. En los métodos donde se genera automáticamente la matriz, en el parámetro de tamaño paso una tupla con las dimensiones."
   ]
  },
  {
   "cell_type": "code",
   "execution_count": 28,
   "id": "finnish-locator",
   "metadata": {},
   "outputs": [
    {
     "name": "stdout",
     "output_type": "stream",
     "text": [
      "[[75 24 36 15]\n",
      " [78 95 39 53]\n",
      " [ 1 12 98 38]\n",
      " [16 84 60 24]\n",
      " [17 81 66 21]]\n",
      "---\n",
      "[[37.5 12.  18.   7.5]\n",
      " [39.  47.5 19.5 26.5]\n",
      " [ 0.5  6.  49.  19. ]\n",
      " [ 8.  42.  30.  12. ]\n",
      " [ 8.5 40.5 33.  10.5]]\n"
     ]
    }
   ],
   "source": [
    "import numpy as np\n",
    "dimensiones=(5,4)\n",
    "matrizale=np.random.randint(1, 100, dimensiones) #Generación de matriz con valores aleatorios\n",
    "matrizDe1=np.ones(dimensiones) # Generación con unos.\n",
    "matrizDe0=np.zeros(dimensiones) # Generación con ceros\n",
    "print(matrizale)\n",
    "print(\"---\")\n",
    "# print(matrizDe1)\n",
    "# print(\"---\")\n",
    "# print(matrizDe0)\n",
    "# print(\"----\")\n",
    "# print(matrizDe1-0.5)\n",
    "print(matrizale/2)"
   ]
  },
  {
   "cell_type": "markdown",
   "id": "black-campus",
   "metadata": {},
   "source": [
    "Ahora puedo utilizar los slices para acceder a sus elementos, pero considerando que tenemos 2 dimensiones, vamos a tener dos rangos, el primero para las filas y el segundo para las columnas. Así aumentaríamos los rangos según la cantidad de dimensiones que maneje."
   ]
  },
  {
   "cell_type": "code",
   "execution_count": 39,
   "id": "inside-madonna",
   "metadata": {},
   "outputs": [
    {
     "name": "stdout",
     "output_type": "stream",
     "text": [
      "[[47 31  7 55]\n",
      " [76 88 17 81]\n",
      " [79 79 40 91]\n",
      " [98 21 52 23]\n",
      " [ 5 67 50 67]]\n",
      "---\n",
      "[[47 31]\n",
      " [76 88]]\n"
     ]
    }
   ],
   "source": [
    "import numpy as np\n",
    "dimensiones=(5,4)\n",
    "matriz=np.random.randint(1, 100, dimensiones) #Generación de matriz con valores aleatorios\n",
    "print(matriz)\n",
    "print(\"---\")\n",
    "print(matriz[3,2]) # Un elemento en la posición deseada de la matriz\n",
    "print(\"---\")\n",
    "print(matriz[1,:]) # Fila 1 de la matriz\n",
    "print(\"---\")\n",
    "print(matriz[:, 3]) # Columna 3 de la matriz\n",
    "print(\"---\")\n",
    "print(matriz[0:2, 0:2]) # Submatriz de 2x2 de la esquina superior izquierda"
   ]
  },
  {
   "cell_type": "code",
   "execution_count": 44,
   "id": "bc23a101",
   "metadata": {},
   "outputs": [
    {
     "name": "stdout",
     "output_type": "stream",
     "text": [
      "[[37 32 86 49 11 24 51 86 33 41]\n",
      " [73 52 49 31 28 63 91 44 30 69]\n",
      " [43 80 59 69 49 27  3 43 40 53]\n",
      " [47 11 65 32 48 80 57 54 56 74]\n",
      " [57 30 94 67 37 69 97 35  5 45]\n",
      " [85 49  2 92 26 84 97 34 99 47]\n",
      " [51 35 39 70 74 73 71 92 72  8]\n",
      " [ 5 22 99 26 32 80 20 74 56 78]\n",
      " [87  3 43 54 26  3 45  1 94 47]\n",
      " [90 74 43 92 18 25 74  4 36 63]\n",
      " [23 50 15 68 91 48 84  6 80 61]\n",
      " [48  7  5 71 61 52 60  1 58 85]\n",
      " [ 1 85 80 23 89 77 37 32 92 29]\n",
      " [41 22 64 24 47 38 53 56 44 87]\n",
      " [32 43 21 74 51 57 81 36 94 82]]\n",
      "----\n",
      "[[  37   32   86   49   11   24   51   86   33   41]\n",
      " [  73   52   49   31   28   63   91   44   30   69]\n",
      " [  43   80   59   69   49   27    3   43   40   53]\n",
      " [  47   11   65   32 4800 8000 5700 5400   56   74]\n",
      " [  57   30   94   67 3700 6900 9700 3500    5   45]\n",
      " [  85   49    2   92 2600 8400 9700 3400   99   47]\n",
      " [  51   35   39   70   74   73   71   92   72    8]\n",
      " [   5   22   99   26   32   80   20   74   56   78]\n",
      " [  87    3   43   54   26    3   45    1   94   47]\n",
      " [  90   74   43   92   18   25   74    4   36   63]\n",
      " [  23   50   15   68   91   48   84    6   80   61]\n",
      " [  48    7    5   71   61   52   60    1   58   85]\n",
      " [   1   85   80   23   89   77   37   32   92   29]\n",
      " [  41   22   64   24   47   38   53   56   44   87]\n",
      " [  32   43   21   74   51   57   81   36   94   82]]\n"
     ]
    }
   ],
   "source": [
    "matriz=np.random.randint(1, 100, (15,10))\n",
    "print(matriz)\n",
    "# matriz[2,:]=0\n",
    "matriz[3:6, 4:8]*=100\n",
    "print(\"----\")\n",
    "\n",
    "print(matriz)"
   ]
  },
  {
   "cell_type": "code",
   "execution_count": 47,
   "id": "extra-bloom",
   "metadata": {},
   "outputs": [
    {
     "name": "stdout",
     "output_type": "stream",
     "text": [
      "(5, 4)\n",
      "[[83 46 70 26]\n",
      " [88 43 24 93]\n",
      " [69 97 49 65]\n",
      " [42 59 99 58]\n",
      " [73 14 43 55]]\n",
      "---\n",
      "[[ 83  92  70  26]\n",
      " [ 88  86  24  93]\n",
      " [ 69 194  49  65]\n",
      " [ 42 118  99  58]\n",
      " [ 73  28  43  55]]\n",
      "---\n",
      "[[ 83  92  70  26]\n",
      " [ 88  86  24  93]\n",
      " [ 69 194  49  65]\n",
      " [ 73  28  43  55]\n",
      " [ 73  28  43  55]]\n",
      "---\n"
     ]
    }
   ],
   "source": [
    "#Operaciones con matrices\n",
    "import numpy as np\n",
    "dimensiones=(5,4)\n",
    "matriz=np.random.randint(1, 100, dimensiones) #Generación de matriz con valores aleatorios\n",
    "print(matriz.shape)\n",
    "print(matriz)\n",
    "print(\"---\")\n",
    "matriz[:,1]=matriz[:,1]*2 #Multiplico por 2 la segunda columna\n",
    "print(matriz)\n",
    "print(\"---\")\n",
    "matriz[3:]=matriz[4:] #Copio la fila 4 en la 3\n",
    "print(matriz)\n",
    "print(\"---\")"
   ]
  },
  {
   "cell_type": "markdown",
   "id": "dominant-chapter",
   "metadata": {},
   "source": [
    "## Numpy y las imágenes\n",
    "\n",
    "Dado que una imagen no es más que una matriz numérica, donde los números representan sus píxeles, numpy nos dejará operar sobre la imagen realizando diversos tipos de procedimiento sobre sus valores\n",
    "\n",
    "Para poder mostrar la imagen en pantalla y realizar ciertas operaciones, usaremos el módulo ***OpenCV***. Ver cómo instalarlo!"
   ]
  },
  {
   "cell_type": "markdown",
   "id": "worse-arthritis",
   "metadata": {},
   "source": [
    "<center><img src=\"images/chalten.jpg\" alt=\"Chalten\" title=\"Imagen que vamos a procesar\" /></center><br>"
   ]
  },
  {
   "cell_type": "markdown",
   "id": "951539ea",
   "metadata": {},
   "source": [
    "pip install opencv-python\n"
   ]
  },
  {
   "cell_type": "code",
   "execution_count": 2,
   "id": "social-geology",
   "metadata": {},
   "outputs": [
    {
     "name": "stdout",
     "output_type": "stream",
     "text": [
      "<class 'numpy.ndarray'>\n",
      "¡SIII, un array de numpy!\n",
      "Dimensiones de la imagen: {} (683, 1024, 3)\n",
      "[97 91 92]\n",
      "[97 91 92]\n"
     ]
    }
   ],
   "source": [
    "import cv2\n",
    "img=cv2.imread(\"images/chalten.jpg\") # Abrir un archivo con una imagen\n",
    "# ¿Qué quedó en img?\n",
    "print(type(img))\n",
    "print(\"¡SIII, un array de numpy!\")\n",
    "print(\"Dimensiones de la imagen: {}\", img.shape) # La última dimensión es el valor de los colores\n",
    "print(img[-1,-1])\n",
    "print(img[682,1023])\n",
    "cv2.imshow('Chalten', img) # Muestra img en una ventana\n",
    "cv2.waitKey(0) # espera una tecla para salir\n",
    "cv2.destroyAllWindows() # Destruye todas las ventanas creadas (si no se va a colgar el kernel!)"
   ]
  },
  {
   "cell_type": "code",
   "execution_count": 7,
   "id": "pressed-account",
   "metadata": {},
   "outputs": [],
   "source": [
    "# Y ahora a empezar a jugar!!!\n",
    "import cv2\n",
    "img=cv2.imread(\"images/chalten.jpg\")\n",
    "img[:,:,0]=0 # 0:Blue, 1:Green, 2:Red\n",
    "img[:,:,1]=0\n",
    "cv2.imshow('Chalten', img)\n",
    "cv2.waitKey(0) \n",
    "cv2.destroyAllWindows()"
   ]
  },
  {
   "cell_type": "code",
   "execution_count": 8,
   "id": "bc3803ec",
   "metadata": {},
   "outputs": [],
   "source": [
    "import cv2\n",
    "img=cv2.imread(\"images/chalten.jpg\")\n",
    "img[:,:,0]=255-img[:,:,0] # 0:Blue, 1:Green, 2:Red\n",
    "img[:,:,1]=255-img[:,:,1]\n",
    "img[:,:,2]=255-img[:,:,2]\n",
    "cv2.imshow('Chalten', img)\n",
    "cv2.waitKey(0) \n",
    "cv2.destroyAllWindows()"
   ]
  },
  {
   "cell_type": "code",
   "execution_count": 10,
   "id": "retained-explanation",
   "metadata": {},
   "outputs": [],
   "source": [
    "import cv2\n",
    "img=cv2.imread(\"images/chalten.jpg\")\n",
    "imgNeg=255-img #Negativo!!\n",
    "imgNegNeg=255-imgNeg #Negativo del negativo\n",
    "cv2.imshow('ChaltenNeg', imgNeg)\n",
    "cv2.imshow('ChaltenNegNeg', imgNegNeg)\n",
    "cv2.waitKey(0) \n",
    "cv2.destroyAllWindows()"
   ]
  },
  {
   "cell_type": "code",
   "execution_count": null,
   "id": "motivated-mixer",
   "metadata": {},
   "outputs": [],
   "source": [
    "import cv2\n",
    "img=cv2.imread(\"images/chalten.jpg\")\n",
    "img2=img[0:300, 0:250] #Tomo una parte de la imagen\n",
    "cv2.imshow('Chalten', img2) \n",
    "cv2.waitKey(0) \n",
    "cv2.destroyAllWindows()"
   ]
  },
  {
   "cell_type": "code",
   "execution_count": 16,
   "id": "consecutive-acrylic",
   "metadata": {},
   "outputs": [],
   "source": [
    "import cv2\n",
    "import numpy as np\n",
    "img=cv2.imread(\"images/chalten.jpg\")\n",
    "img2=np.flip(img, 1) # Flipeamos la matriz\n",
    "cv2.imshow('Chalten', img) \n",
    "cv2.imshow('Chalten Invertido', img2) \n",
    "cv2.waitKey(0) \n",
    "cv2.destroyAllWindows()"
   ]
  },
  {
   "cell_type": "code",
   "execution_count": 17,
   "id": "3101d3e9",
   "metadata": {},
   "outputs": [],
   "source": [
    "img=cv2.imread(\"images/chalten.jpg\")\n",
    "img[:341]=img[342:] #Copio la parte de abajo en la de arriba\n",
    "cv2.imshow('Chalten', img)\n",
    "cv2.waitKey(0)\n",
    "cv2.destroyAllWindows()"
   ]
  },
  {
   "cell_type": "code",
   "execution_count": 18,
   "id": "0a21560e",
   "metadata": {},
   "outputs": [],
   "source": [
    "img=cv2.imread(\"images/chalten.jpg\")\n",
    "img[:,0:512]=img[:,512:] #Copio la parte derecha en la izquierda\n",
    "cv2.imshow('Chalten', img)\n",
    "cv2.waitKey(0)\n",
    "cv2.destroyAllWindows()"
   ]
  },
  {
   "cell_type": "code",
   "execution_count": 21,
   "id": "casual-affiliate",
   "metadata": {},
   "outputs": [],
   "source": [
    "#Algunas funciones de OpenCV\n",
    "import cv2\n",
    "import numpy as np\n",
    "img=cv2.imread(\"images/chalten.jpg\")\n",
    "img2=cv2.medianBlur(img, 5)\n",
    "img3=cv2.rotate(img, cv2.ROTATE_90_CLOCKWISE) # El segundo parámetro es una constante que me indica cómo rotar\n",
    "img4=np.rot90(img,2) # El segundo parámetro me indica la cantidad de rotaciones a aplicar\n",
    "cv2.imshow('Chalten', img) \n",
    "cv2.imshow('Chalten Borroso', img2) \n",
    "cv2.imshow('Chalten Rotado', img3) \n",
    "cv2.imshow('Chalten Rotado por numpy', img4) \n",
    "cv2.waitKey(0) \n",
    "cv2.destroyAllWindows()"
   ]
  },
  {
   "cell_type": "code",
   "execution_count": 22,
   "id": "front-republic",
   "metadata": {},
   "outputs": [],
   "source": [
    "# Conversión de color \n",
    "# https://docs.opencv.org/3.4/d8/d01/group__imgproc__color__conversions.html#ga4e0972be5de079fed4e3a10e24ef5ef0\n",
    "import cv2\n",
    "import numpy as np\n",
    "img=cv2.imread(\"images/chalten.jpg\")\n",
    "img2=cv2.cvtColor(img, cv2.COLOR_RGB2GRAY)\n",
    "cv2.imshow('Chalten en gris', img2) \n",
    "cv2.waitKey(0) \n",
    "cv2.destroyAllWindows()"
   ]
  },
  {
   "cell_type": "code",
   "execution_count": 23,
   "id": "smooth-financing",
   "metadata": {},
   "outputs": [],
   "source": [
    "# Detección de bordes\n",
    "# cv2.Canny(imagen, minval, maxval)\n",
    "# Primero calcula los gradientes (cuánto cambia el valor del pixel con respecto a sus vecinos)\n",
    "# Luego considera sí o sí bordes los que superan el maxval, y no los que están por debajo de minval. Para lo que queda en el medio\n",
    "# analiza la continuidad con otro borde\n",
    "import cv2\n",
    "import numpy as np\n",
    "img=cv2.imread(\"images/chalten.jpg\")\n",
    "img2=cv2.Canny(img, 100, 200)\n",
    "cv2.imshow('Bordes detectados', img2) \n",
    "cv2.waitKey(0) \n",
    "cv2.destroyAllWindows()"
   ]
  },
  {
   "cell_type": "markdown",
   "id": "subject-suffering",
   "metadata": {},
   "source": [
    "## Captura de cámara\n",
    "Es exactamente lo mismo, capturando cuadro a cuadro el video\n"
   ]
  },
  {
   "cell_type": "code",
   "execution_count": null,
   "id": "creative-questionnaire",
   "metadata": {},
   "outputs": [],
   "source": [
    "import cv2\n",
    "import numpy as np\n",
    "cam=cv2.VideoCapture(0) #Qué camara voy a capturar?\n",
    "while(True):\n",
    "    ret, cuadro=cam.read()\n",
    "    if ret:\n",
    "#         nueva=cv2.cvtColor(cuadro, cv2.COLOR_RGB2GRAY)\n",
    "#         cuadro[:,:,0]=0\n",
    "#         cuadro[:,:,1]=0\n",
    "        nueva=np.rot90(cuadro,1)\n",
    "#         nueva=cv2.Canny(cuadro, 100, 200)\n",
    "#         nueva=cv2.medianBlur(cuadro, 5)\n",
    "        cv2.imshow(\"Nueva\", nueva)\n",
    "    if cv2.waitKey(1) & 0xFF == ord('q'):\n",
    "        break\n",
    "cam.release()\n",
    "cv2.destroyAllWindows()"
   ]
  },
  {
   "cell_type": "code",
   "execution_count": null,
   "id": "opposite-infrastructure",
   "metadata": {},
   "outputs": [],
   "source": [
    "import cv2\n",
    "import numpy as np\n",
    "cam=cv2.VideoCapture(0) #Qué camara voy a capturar?\n",
    "while(True):\n",
    "    ret, img=cam.read()\n",
    "    if ret:\n",
    "        alto_medio = int(img.shape[0]/2)\n",
    "        img[:alto_medio,:,0]=0 # 0:Blue, 1:Green, 2:Red\n",
    "        img[:alto_medio,:,1]=0 # 0:Blue, 1:Green, 2:Red\n",
    "        img[alto_medio:,:,0]=0\n",
    "        img[alto_medio:,:,2]=0\n",
    "        cv2.imshow(\"Color\", img)\n",
    "        if cv2.waitKey(1) & 0xFF == ord('q'):\n",
    "            break\n",
    "cam.release()\n",
    "cv2.destroyAllWindows()\n"
   ]
  },
  {
   "cell_type": "code",
   "execution_count": null,
   "id": "revised-responsibility",
   "metadata": {},
   "outputs": [],
   "source": [
    "import cv2\n",
    "import numpy as np\n",
    "cam=cv2.VideoCapture(0)\n",
    "while(True):\n",
    "    ret, img=cam.read()\n",
    "    gray = cv2.cvtColor(img, cv2.COLOR_BGR2GRAY)\n",
    "    gray = cv2.medianBlur(gray, 5)\n",
    "    edges = cv2.adaptiveThreshold(gray, 255, cv2.ADAPTIVE_THRESH_MEAN_C, cv2.THRESH_BINARY, 9, 9)\n",
    "    color = cv2.bilateralFilter(img, 9, 300, 300)\n",
    "    cartoon = cv2.bitwise_and(color, color, mask=edges)\n",
    "    cv2.imshow(\"Cartoon\", cartoon)\n",
    "\n",
    "    if cv2.waitKey(1) & 0xFF == ord('q'):\n",
    "        break\n",
    "        \n",
    "cam.release()\n",
    "cv2.destroyAllWindows()\n"
   ]
  },
  {
   "cell_type": "code",
   "execution_count": null,
   "id": "photographic-ladder",
   "metadata": {},
   "outputs": [],
   "source": []
  }
 ],
 "metadata": {
  "kernelspec": {
   "display_name": "Python 3",
   "language": "python",
   "name": "python3"
  },
  "language_info": {
   "codemirror_mode": {
    "name": "ipython",
    "version": 3
   },
   "file_extension": ".py",
   "mimetype": "text/x-python",
   "name": "python",
   "nbconvert_exporter": "python",
   "pygments_lexer": "ipython3",
   "version": "3.10.10"
  }
 },
 "nbformat": 4,
 "nbformat_minor": 5
}

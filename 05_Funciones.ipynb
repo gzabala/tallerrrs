{
 "cells": [
  {
   "cell_type": "markdown",
   "id": "rolled-fighter",
   "metadata": {},
   "source": [
    "# Funciones\n",
    "\n",
    "**def *nombre*(*par1*, *par2*,...):  \n",
    "&emsp;*bloque de código*  \n",
    "&emsp;*con return devolvemos uno o más valores***"
   ]
  },
  {
   "cell_type": "code",
   "execution_count": 3,
   "id": "sharing-finance",
   "metadata": {},
   "outputs": [
    {
     "name": "stdout",
     "output_type": "stream",
     "text": [
      "1, 2, 4, 8, 16, 32, 64, 128, 256, 512\n"
     ]
    }
   ],
   "source": [
    "# 1, 1, 2, 3, 5, 8, 13, 21, 34,...\n",
    "\n",
    "def secGeometrica(num):\n",
    "    \"\"\" Esto es un docstring, para documentar funciones \"\"\"\n",
    "    valorActual=1\n",
    "    cant=1\n",
    "    while cant<=num:\n",
    "        print(valorActual, end=\"\")\n",
    "        if(cant<num):\n",
    "            print(\",\", end=\" \")\n",
    "        cant+=1\n",
    "        valorActual*=2\n",
    "    print()\n",
    "\n",
    "print(secGeometrica(10))"
   ]
  },
  {
   "cell_type": "markdown",
   "id": "charming-mailman",
   "metadata": {},
   "source": [
    "Los argumentos inmutables se pasan por valor. Los mutables por referencia."
   ]
  },
  {
   "cell_type": "code",
   "execution_count": null,
   "id": "approved-andrews",
   "metadata": {},
   "outputs": [],
   "source": [
    "def foo(par1):\n",
    "    par1+=10\n",
    "    print(par1)\n",
    "\n",
    "x=5\n",
    "foo(x)\n",
    "print(x)"
   ]
  },
  {
   "cell_type": "code",
   "execution_count": null,
   "id": "compact-voluntary",
   "metadata": {},
   "outputs": [],
   "source": [
    "def agregar(lista, elemento):\n",
    "    if elemento not in lista: lista.append(elemento)\n",
    "        \n",
    "l=[12, 13, 22]\n",
    "print(l)\n",
    "agregar(l, 33)\n",
    "print(l)\n",
    "agregar(l, 13)\n",
    "print(l)"
   ]
  },
  {
   "cell_type": "code",
   "execution_count": null,
   "id": "classified-berlin",
   "metadata": {},
   "outputs": [],
   "source": [
    "def modificartup(tupla):\n",
    "    tupla=(1,1,1)\n",
    "    print(tupla)\n",
    "        \n",
    "t=(12, 13, 22)\n",
    "print(t)\n",
    "modificartup(t)\n",
    "print(t)\n"
   ]
  },
  {
   "cell_type": "markdown",
   "id": "automotive-crowd",
   "metadata": {},
   "source": [
    "Las funciones SIEMPRE devuelven un valor."
   ]
  },
  {
   "cell_type": "code",
   "execution_count": null,
   "id": "waiting-tribune",
   "metadata": {},
   "outputs": [],
   "source": [
    "def foo(par1):\n",
    "    par1+=10\n",
    "    print(par1)\n",
    "print(foo(5))"
   ]
  },
  {
   "cell_type": "code",
   "execution_count": null,
   "id": "heard-philosophy",
   "metadata": {},
   "outputs": [],
   "source": [
    "def devuelveValor(elemento, potencia):\n",
    "    return elemento**potencia, elemento%potencia\n",
    "\n",
    "valor1, valor2=devuelveValor(10,3)\n",
    "print(valor1)\n",
    "print(valor2)"
   ]
  }
 ],
 "metadata": {
  "kernelspec": {
   "display_name": "Python 3",
   "language": "python",
   "name": "python3"
  },
  "language_info": {
   "codemirror_mode": {
    "name": "ipython",
    "version": 3
   },
   "file_extension": ".py",
   "mimetype": "text/x-python",
   "name": "python",
   "nbconvert_exporter": "python",
   "pygments_lexer": "ipython3",
   "version": "3.7.7"
  }
 },
 "nbformat": 4,
 "nbformat_minor": 5
}

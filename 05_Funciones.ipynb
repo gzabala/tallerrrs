{
 "cells": [
  {
   "cell_type": "markdown",
   "id": "rolled-fighter",
   "metadata": {},
   "source": [
    "# Funciones\n",
    "\n",
    "**def *nombre*(*par1*, *par2*,...):  \n",
    "&emsp;*bloque de código*  \n",
    "&emsp;*con return devolvemos uno o más valores***"
   ]
  },
  {
   "cell_type": "code",
   "execution_count": 2,
   "id": "4c0bc9f6",
   "metadata": {},
   "outputs": [
    {
     "name": "stdout",
     "output_type": "stream",
     "text": [
      "Bienvenidos\n"
     ]
    }
   ],
   "source": [
    "def primerPalabra(cadena):\n",
    "    lista=cadena.split()\n",
    "    return lista[0]\n",
    "\n",
    "print(primerPalabra(\"Bienvenidos al curso de Python\"))"
   ]
  },
  {
   "cell_type": "code",
   "execution_count": 5,
   "id": "sharing-finance",
   "metadata": {},
   "outputs": [
    {
     "name": "stdout",
     "output_type": "stream",
     "text": [
      "1, 2, 4, 8, 16, 32, 64, 128, 256, 512, 1024, 2048, 4096, 8192, 16384, 32768, 65536, 131072, 262144, 524288\n",
      "None\n"
     ]
    }
   ],
   "source": [
    "# 1, 2, 4, 8, 16, 32...\n",
    "# Puede haber funciones que no devuelven valores (modifican algo...)\n",
    "def secGeometrica(num):\n",
    "    \"\"\" Esto es un docstring, para documentar funciones \"\"\"\n",
    "    valorActual=1\n",
    "    cant=1\n",
    "    while cant<=num:\n",
    "        print(valorActual, end=\"\")\n",
    "        if(cant<num):\n",
    "            print(\",\", end=\" \")\n",
    "        cant+=1\n",
    "        valorActual*=2\n",
    "    print()\n",
    "\n",
    "print(secGeometrica(20))"
   ]
  },
  {
   "cell_type": "markdown",
   "id": "charming-mailman",
   "metadata": {},
   "source": [
    "Los argumentos inmutables se pasan por valor. Los mutables por referencia."
   ]
  },
  {
   "cell_type": "code",
   "execution_count": 6,
   "id": "approved-andrews",
   "metadata": {},
   "outputs": [
    {
     "name": "stdout",
     "output_type": "stream",
     "text": [
      "15\n",
      "5\n"
     ]
    }
   ],
   "source": [
    "# Pasar por valor, es crear una copia del dato pasado, de forma tal que si yo lo modifico dentro de la\n",
    "# función, no se modifica el valor original.\n",
    "def foo(par1):\n",
    "    par1+=10\n",
    "    print(par1)\n",
    "\n",
    "x=5\n",
    "foo(x)\n",
    "print(x)"
   ]
  },
  {
   "cell_type": "code",
   "execution_count": 7,
   "id": "compact-voluntary",
   "metadata": {},
   "outputs": [
    {
     "name": "stdout",
     "output_type": "stream",
     "text": [
      "[12, 13, 22]\n",
      "[12, 13, 22, 33]\n",
      "[12, 13, 22, 33]\n"
     ]
    }
   ],
   "source": [
    "# Pasar por referencia, es pasar una \"flecha\" que señala el mismo lugar donde está el dato que pasé cómo \n",
    "# parámetro. Por lo tanto, si lo modifico, también se modifica en el programa principal.\n",
    "def agregar(lista, elemento):\n",
    "    if elemento not in lista: lista.append(elemento)\n",
    "        \n",
    "l=[12, 13, 22]\n",
    "print(l)\n",
    "agregar(l, 33)\n",
    "print(l)\n",
    "agregar(l, 13)\n",
    "print(l)"
   ]
  },
  {
   "cell_type": "code",
   "execution_count": 8,
   "id": "classified-berlin",
   "metadata": {},
   "outputs": [
    {
     "name": "stdout",
     "output_type": "stream",
     "text": [
      "(12, 13, 22)\n",
      "(1, 1, 1)\n",
      "(12, 13, 22)\n"
     ]
    }
   ],
   "source": [
    "def modificartup(tupla):\n",
    "    tupla=(1,1,1)\n",
    "    print(tupla)\n",
    "        \n",
    "t=(12, 13, 22)\n",
    "print(t)\n",
    "modificartup(t)\n",
    "print(t) #¿Qué imprime acá?\n"
   ]
  },
  {
   "cell_type": "markdown",
   "id": "automotive-crowd",
   "metadata": {},
   "source": [
    "Las funciones SIEMPRE devuelven un valor."
   ]
  },
  {
   "cell_type": "code",
   "execution_count": 9,
   "id": "waiting-tribune",
   "metadata": {},
   "outputs": [
    {
     "name": "stdout",
     "output_type": "stream",
     "text": [
      "15\n",
      "None\n"
     ]
    }
   ],
   "source": [
    "def foo(par1):\n",
    "    par1+=10\n",
    "    print(par1)\n",
    "print(foo(5))"
   ]
  },
  {
   "cell_type": "code",
   "execution_count": 11,
   "id": "heard-philosophy",
   "metadata": {},
   "outputs": [
    {
     "name": "stdout",
     "output_type": "stream",
     "text": [
      "(1000, 1)\n",
      "1\n"
     ]
    }
   ],
   "source": [
    "#Podemos devolver más de un valor\n",
    "def devuelveValor(elemento, potencia):\n",
    "    return elemento**potencia, elemento%potencia\n",
    "\n",
    "valor1, valor2=devuelveValor(10,3)\n",
    "print(valor1)\n",
    "print(valor2)\n"
   ]
  }
 ],
 "metadata": {
  "kernelspec": {
   "display_name": "Python 3",
   "language": "python",
   "name": "python3"
  },
  "language_info": {
   "codemirror_mode": {
    "name": "ipython",
    "version": 3
   },
   "file_extension": ".py",
   "mimetype": "text/x-python",
   "name": "python",
   "nbconvert_exporter": "python",
   "pygments_lexer": "ipython3",
   "version": "3.7.7"
  }
 },
 "nbformat": 4,
 "nbformat_minor": 5
}

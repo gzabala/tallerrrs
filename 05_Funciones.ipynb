{
 "cells": [
  {
   "cell_type": "markdown",
   "id": "rolled-fighter",
   "metadata": {},
   "source": [
    "# Funciones\n",
    "\n",
    "**def *nombre*(*par1*, *par2*,...):  \n",
    "&emsp;*bloque de código*  \n",
    "&emsp;*con return devolvemos uno o más valores***"
   ]
  },
  {
   "cell_type": "code",
   "execution_count": 2,
   "id": "4c0bc9f6",
   "metadata": {},
   "outputs": [
    {
     "name": "stdout",
     "output_type": "stream",
     "text": [
      "Bienvenidos\n"
     ]
    }
   ],
   "source": [
    "def primerPalabra(cadena):\n",
    "    lista=cadena.split()\n",
    "    return lista[0]\n",
    "\n",
    "resultado = primerPalabra(\"Bienvenidos al curso de Python\")\n",
    "print(resultado)"
   ]
  },
  {
   "cell_type": "code",
   "execution_count": 3,
   "id": "sharing-finance",
   "metadata": {},
   "outputs": [
    {
     "name": "stdout",
     "output_type": "stream",
     "text": [
      "1, 2, 4, 8, 16, 32, 64, 128, 256, 512, 1024, 2048, 4096, 8192, 16384, 32768, 65536, 131072, 262144, 524288\n",
      "None\n"
     ]
    }
   ],
   "source": [
    "# 1, 2, 4, 8, 16, 32...\n",
    "# Puede haber funciones que no devuelven valores (modifican algo...)\n",
    "def secGeometrica(num):\n",
    "    \"\"\" Esto es un docstring, para documentar funciones \"\"\"\n",
    "    \"\"\" Imprime los primeros num números de la secuencia geométrica\"\"\"\n",
    "    valorActual=1\n",
    "    cant=1\n",
    "    while cant<=num:\n",
    "        print(valorActual, end=\"\")\n",
    "        if(cant<num):\n",
    "            print(\",\", end=\" \")\n",
    "        cant+=1\n",
    "        valorActual*=2\n",
    "    print()\n",
    "\n",
    "print(secGeometrica(20))"
   ]
  },
  {
   "cell_type": "markdown",
   "id": "charming-mailman",
   "metadata": {},
   "source": [
    "Los argumentos inmutables se pasan por valor. Los mutables por referencia. Si, en vez de modificar el parámetro, cambio completamente su contenido, se crea una variable nueva local a la función."
   ]
  },
  {
   "cell_type": "code",
   "execution_count": 4,
   "id": "approved-andrews",
   "metadata": {},
   "outputs": [
    {
     "name": "stdout",
     "output_type": "stream",
     "text": [
      "15\n",
      "5\n"
     ]
    }
   ],
   "source": [
    "# Pasar por valor, es crear una copia del dato pasado, de forma tal que si yo lo modifico dentro de la\n",
    "# función, no se modifica el valor original.\n",
    "def foo(par1):\n",
    "    par1+=10\n",
    "    print(par1)\n",
    "\n",
    "x=5\n",
    "foo(x)\n",
    "print(x)"
   ]
  },
  {
   "cell_type": "code",
   "execution_count": 8,
   "id": "compact-voluntary",
   "metadata": {},
   "outputs": [
    {
     "name": "stdout",
     "output_type": "stream",
     "text": [
      "[12, 13, 22]\n",
      "[12, 13, 22, 33]\n",
      "[12, 13, 22, 33]\n"
     ]
    }
   ],
   "source": [
    "# Pasar por referencia, es pasar una \"flecha\" que señala el mismo lugar donde está el dato que pasé cómo \n",
    "# parámetro. Por lo tanto, si lo modifico, también se modifica en el programa principal.\n",
    "def agregar(lista, elemento):\n",
    "    if elemento not in lista: lista.append(elemento)\n",
    "        \n",
    "l=[12, 13, 22]\n",
    "print(l)\n",
    "agregar(l, 33)\n",
    "print(l)\n",
    "agregar(l, 13)\n",
    "print(l)"
   ]
  },
  {
   "cell_type": "code",
   "execution_count": 9,
   "id": "classified-berlin",
   "metadata": {},
   "outputs": [
    {
     "name": "stdout",
     "output_type": "stream",
     "text": [
      "(12, 13, 22)\n",
      "(1, 1, 1)\n",
      "(12, 13, 22)\n"
     ]
    }
   ],
   "source": [
    "def modificartup(tupla):\n",
    "    tupla=(1,1,1)\n",
    "    print(tupla)\n",
    "        \n",
    "t=(12, 13, 22)\n",
    "print(t)\n",
    "modificartup(t)\n",
    "print(t) #¿Qué imprime acá?\n"
   ]
  },
  {
   "cell_type": "markdown",
   "id": "automotive-crowd",
   "metadata": {},
   "source": [
    "Las funciones SIEMPRE devuelven un valor. Si no indico qué devolver, devuelve None (que es un valor existente en Python)"
   ]
  },
  {
   "cell_type": "code",
   "execution_count": 13,
   "id": "waiting-tribune",
   "metadata": {},
   "outputs": [
    {
     "name": "stdout",
     "output_type": "stream",
     "text": [
      "15\n",
      "None\n"
     ]
    }
   ],
   "source": [
    "def foo(par1):\n",
    "    par1+=10\n",
    "    print(par1)\n",
    "    \n",
    "\n",
    "\n",
    "print(foo(5))"
   ]
  },
  {
   "cell_type": "code",
   "execution_count": 14,
   "id": "heard-philosophy",
   "metadata": {},
   "outputs": [
    {
     "name": "stdout",
     "output_type": "stream",
     "text": [
      "1000\n",
      "1\n"
     ]
    }
   ],
   "source": [
    "#Podemos devolver más de un valor\n",
    "def devuelveValor(elemento, potencia):\n",
    "    return elemento**potencia, elemento%potencia\n",
    "\n",
    "valor1, valor2=devuelveValor(10,3)\n",
    "print(valor1)\n",
    "print(valor2)\n"
   ]
  },
  {
   "cell_type": "markdown",
   "id": "58a9a755",
   "metadata": {},
   "source": [
    "Alcance de las variables"
   ]
  },
  {
   "cell_type": "code",
   "execution_count": null,
   "id": "7596cca3",
   "metadata": {},
   "outputs": [],
   "source": [
    "def foo(par1, par2):\n",
    "    varNueva=5 #Cuando creao una variable dentro de una función, esa variable es local\n",
    "    print(varNueva)\n",
    "    return 10\n",
    "\n",
    "var=foo(10,12)\n",
    "print(varNueva) #Acá varNueva no existe\n"
   ]
  },
  {
   "cell_type": "code",
   "execution_count": 16,
   "id": "330807be",
   "metadata": {},
   "outputs": [
    {
     "name": "stdout",
     "output_type": "stream",
     "text": [
      "89\n",
      "12\n",
      "89\n"
     ]
    }
   ],
   "source": [
    "def foo(par1): # TODA VARIABLE QUE SE CREA DENTRO DE UNA FUNCION, ES LOCAL A ESA FUNCIÓN, SALVO QUE SE DECLARE LO CONTRARIO\n",
    "    var=12\n",
    "    print(var)\n",
    "\n",
    "var=89\n",
    "print(var)\n",
    "foo(99)\n",
    "print(var)"
   ]
  },
  {
   "cell_type": "code",
   "execution_count": 17,
   "id": "611748a6",
   "metadata": {},
   "outputs": [
    {
     "name": "stdout",
     "output_type": "stream",
     "text": [
      "89\n",
      "12\n",
      "12\n"
     ]
    }
   ],
   "source": [
    "def foo(par1): \n",
    "    global var #CHE, NO ME CREES EN LA TABLA LOCAL A VAR, HACE REFERENCIA AL VAR QUE ESTÁ EN EL CODIGO PRINCIPAL\n",
    "    var=12\n",
    "    print(var)\n",
    "\n",
    "var=89\n",
    "print(var)\n",
    "foo(99)\n",
    "print(var)"
   ]
  },
  {
   "cell_type": "markdown",
   "id": "64e96592",
   "metadata": {},
   "source": [
    "ATENTOSSSSSSSS\n",
    "PASAR POR REFERENCIA UNA VARIABLE, O DECLARARLA GLOBAL, PUEDE TENER EFECTOS COLATERALES INDESEABLES\n"
   ]
  },
  {
   "cell_type": "code",
   "execution_count": 22,
   "id": "3a62b0c6",
   "metadata": {},
   "outputs": [
    {
     "name": "stdout",
     "output_type": "stream",
     "text": [
      "[34, 12, 55]\n",
      "[34, 12, 55]\n",
      "[34, 12, 55, 54]\n"
     ]
    }
   ],
   "source": [
    "def modificaLista(lista): #esto es una buena forma de programar sin consecuencias colaterales\n",
    "    listaNue=lista.copy()\n",
    "    listaNue.append(54)\n",
    "    return listaNue\n",
    "\n",
    "l=[34,12,55]\n",
    "print(l)\n",
    "l2=modificaLista(l)\n",
    "print(l)\n",
    "print(l2)\n"
   ]
  },
  {
   "cell_type": "markdown",
   "id": "8ca3538c",
   "metadata": {},
   "source": [
    "Tratar de evitar el uso de global, y el uso de estructuras mutables sin hacerle una copia antes..."
   ]
  },
  {
   "cell_type": "code",
   "execution_count": 27,
   "id": "4ccf87f9",
   "metadata": {},
   "outputs": [
    {
     "name": "stdout",
     "output_type": "stream",
     "text": [
      "['Es', 't ', 'es', ' u', 'n ', 'ej', 'em', 'pl', 'o_']\n"
     ]
    }
   ],
   "source": [
    "#Ejemplo del ejercicio nro 1 de Funciones\n",
    "\n",
    "def deADos(cadena):\n",
    "    inicio=0\n",
    "    lista=[]\n",
    "    while inicio<len(cadena):\n",
    "        lista.append(cadena[inicio:inicio+2])\n",
    "        inicio+=2\n",
    "    #Me fijo si el último elemento me quedó de longitud 1, entonces le agrego un _\n",
    "    if len(lista[-1])<2:\n",
    "        lista[-1]=lista[-1]+\"_\"\n",
    "    return lista\n",
    "\n",
    "cad=\"Est es un ejemplo\"\n",
    "print(deADos(cad))"
   ]
  },
  {
   "cell_type": "code",
   "execution_count": 29,
   "id": "07f6990a",
   "metadata": {},
   "outputs": [
    {
     "name": "stdout",
     "output_type": "stream",
     "text": [
      "['Es', 't ', 'es', ' u', 'n ', 'ej', 'em', 'pl', 'o_']\n"
     ]
    }
   ],
   "source": [
    "#Ejemplo del ejercicio nro 1 de Funciones\n",
    "\n",
    "def deADosv2(cadena):\n",
    "    inicio=0\n",
    "    lista=[]\n",
    "    while inicio<len(cadena):\n",
    "        cade=cadena[inicio:inicio+2]\n",
    "        if len(cade)<2:\n",
    "            cade+=\"_\"\n",
    "        lista.append(cade)\n",
    "        inicio+=2\n",
    "    return lista\n",
    "\n",
    "\n",
    "cad=\"Est es un ejemplo\"\n",
    "print(deADosv2(cad))"
   ]
  },
  {
   "cell_type": "code",
   "execution_count": 31,
   "id": "2daf35fa",
   "metadata": {},
   "outputs": [
    {
     "name": "stdout",
     "output_type": "stream",
     "text": [
      "['Es', 'te', ' e', 's ', 'un', ' e', 'je', 'mp', 'lo']\n"
     ]
    }
   ],
   "source": [
    "def deADosv3(cadena):\n",
    "    if(len(cadena)%2==1):\n",
    "        cadena+=\"_\"\n",
    "    inicio=0\n",
    "    lista=[]\n",
    "    while inicio<len(cadena):\n",
    "        lista.append(cadena[inicio:inicio+2])\n",
    "        inicio+=2\n",
    "    return lista\n",
    "\n",
    "cad=\"Este es un ejemplo\"\n",
    "print(deADosv3(cad))"
   ]
  },
  {
   "cell_type": "code",
   "execution_count": null,
   "id": "c6b7bf1b",
   "metadata": {},
   "outputs": [],
   "source": [
    "def masCaros(m, dics):\n",
    "    pass\n",
    "\n",
    "masCaros(3, [{\"prod\":\"pan\", \"pre\": 100}, {\"prod\":\"arroz\", \"pre\": 50}, {\"prod\":\"leche\", \"pre\": 90}, {\"prod\":\"carne\", \"pre\": 300}])"
   ]
  }
 ],
 "metadata": {
  "kernelspec": {
   "display_name": "Python 3",
   "language": "python",
   "name": "python3"
  },
  "language_info": {
   "codemirror_mode": {
    "name": "ipython",
    "version": 3
   },
   "file_extension": ".py",
   "mimetype": "text/x-python",
   "name": "python",
   "nbconvert_exporter": "python",
   "pygments_lexer": "ipython3",
   "version": "3.10.10"
  }
 },
 "nbformat": 4,
 "nbformat_minor": 5
}

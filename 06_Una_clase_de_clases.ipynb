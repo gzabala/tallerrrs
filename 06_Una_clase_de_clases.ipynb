{
 "cells": [
  {
   "cell_type": "markdown",
   "metadata": {},
   "source": [
    "# Clases"
   ]
  },
  {
   "cell_type": "markdown",
   "metadata": {},
   "source": [
    "***Objeto***: cada elemento que entra en juego en mi sistema. Es un recorte de un objeto que pertenece a una situación real o imaginaria. Por ejemplo, en un sistema de notas de alumnos, cada alumno, cada materia, cada nota es un objeto.\n",
    "\n",
    "***Atributo***: cada característica de un objeto. Por ejemplo, el apellido de un alumno, su foto, el nombre de la materia, la fecha de un examen.\n",
    "\n",
    "***Método o Comportamiento***: respuesta a un mensaje que recibe el objeto. Esencialmente, los métodos definen lo que \"sabe\" hacer un objeto. Por ejemplo, ¿qué edad tiene el alumno?, ¿cuántas materias aprobadas?, encender un motor a determinada velocidad, obtener la imagen de una cámara.\n",
    "\n",
    "***Clase***: es una abstracción de un conjunto de objetos que comparten las mismas propiedades (no sus valores necesariamente) y sus métodos.\n",
    "\n",
    "***Instancia***: objeto de una clase.\n",
    "\n"
   ]
  },
  {
   "cell_type": "markdown",
   "metadata": {},
   "source": [
    "## Creación de una clase\n",
    "\n",
    "> Class *nombre*(*superclase*):  \n",
    ">     **código de la clase**\n",
    "\n",
    "## Constructor\n",
    "\n",
    "Es el método que se ejecuta cuando se crea un objeto de una clase. Debo definir *self* como primer parámetro, y luego puedo adicionar los parámetros que desee (si es que los necesita). Dentro del método constructor creamos los atributos del objeto."
   ]
  },
  {
   "cell_type": "code",
   "execution_count": null,
   "metadata": {},
   "outputs": [],
   "source": [
    "class Cosa:\n",
    "    def __init__(self):\n",
    "        print(\"Acabo de construirme\")\n",
    "\n",
    "laCosa=Cosa()\n",
    "print(type(laCosa))\n"
   ]
  },
  {
   "cell_type": "code",
   "execution_count": null,
   "metadata": {},
   "outputs": [],
   "source": [
    "from datetime import date\n",
    "from datetime import datetime\n",
    "\n",
    "class Alumno:\n",
    "    def __init__(self, apellido, nombre, nacim): # el método constructor debe llamarse __init__\n",
    "        self.apellido=apellido #defino con self.nombre los atributos de la instancia. Si no antecedo con self. estoy definiendo una variable local.\n",
    "        self.nombre=nombre\n",
    "        self.nacimiento=nacim\n",
    "        self.inscripcion=date.today()\n",
    "\n",
    "alu1=Alumno(\"Maradona\", \"Diego\", datetime(1960, 10, 30)) #construcción de un objeto de la clase Alumno\n",
    "print(alu1.apellido)\n",
    "print(alu1.nacimiento)\n",
    "print(alu1.inscripcion)"
   ]
  },
  {
   "cell_type": "markdown",
   "metadata": {},
   "source": [
    "## Atributos\n",
    "\n",
    "Los atributos que acabamos de definir en el constructor, son atributos de la instancia. Esto significa que, desde el punto de vista estructural, todas las instancias tendrán los mismos atributos, pero el valor en cada uno de ellos será independiente. Por ejemplo, todas las instancias de la clase Alumno tendrán apellido, nombre, nacimiento e inscripción, pero el valor al que refieren será independiente en cada alumno.  \n",
    "\n",
    "### Atributos de clase\n",
    "Podríamos necesitar una referencia que sea compartida por todos los objetos de la clase. Se las conoce como  atributos de clase. Si modifican su valor, lo hacen para todas las instancias de la clase.  "
   ]
  },
  {
   "cell_type": "code",
   "execution_count": null,
   "metadata": {},
   "outputs": [],
   "source": [
    "class Robot:\n",
    "    maxVel=10\n",
    "\n",
    "    def __init__(self, x, y, rot):\n",
    "        self.x=x\n",
    "        self.y=y\n",
    "        self.rot=rot\n",
    "\n",
    "r=Robot(0,0,90)\n",
    "r2=Robot(10,10,180)\n",
    "print(\"R: \", r.x,\" - \", r.y,\" - \", r.rot, \" - \", r.maxVel)\n",
    "print(\"R2: \", r2.x,\" - \", r2.y,\" - \", r2.rot, \" - \", r2.maxVel)\n",
    "print(\"---\")\n",
    "Robot.maxVel=20\n",
    "print(\"R: \", r.x,\" - \", r.y,\" - \", r.rot, \" - \", r.maxVel)\n",
    "print(\"R2: \", r2.x,\" - \", r2.y,\" - \", r2.rot, \" - \", r2.maxVel)\n",
    "print(\"---\")\n",
    "r.maxVel=15 # Acabo de crear una propiedad del objeto r en particular en su tabla de símbolos locales. NOOOO ES RECOMENDABLE!!!!\n",
    "print(\"R: \", r.x,\" - \", r.y,\" - \", r.rot, \" - \", r.maxVel)\n",
    "print(\"R2: \", r2.x,\" - \", r2.y,\" - \", r2.rot, \" - \", r2.maxVel)\n",
    "print(\"---\")\n",
    "Robot.maxVel=40\n",
    "print(\"R: \", r.x,\" - \", r.y,\" - \", r.rot, \" - \", r.maxVel)\n",
    "print(\"R2: \", r2.x,\" - \", r2.y,\" - \", r2.rot, \" - \", r2.maxVel)\n"
   ]
  },
  {
   "cell_type": "markdown",
   "metadata": {},
   "source": [
    "## Métodos \n",
    "\n",
    "> def *nombre*(self, *\\[par1, par2,...\\]*):  \n",
    ">     *código*  \n",
    ">     \\[return *valor*\\]  \n",
    "\n",
    "Los métodos pueden ser públicos (los puede llamar el cliente de la clase) o privados (pueden llamarse internamente, no forman parte de su protocolo). También pueden ser de instancia (método que invoco mediante un mensaje a un objeto de la clase), de clase (método que invoco enviando mensaje a la clase).\n"
   ]
  },
  {
   "cell_type": "code",
   "execution_count": null,
   "metadata": {},
   "outputs": [],
   "source": [
    "import math\n",
    "class Robot:\n",
    "    maxVel=10\n",
    "\n",
    "    def __init__(self, x, y, rot):\n",
    "        self.x=x\n",
    "        self.y=y\n",
    "        self.rot=rot\n",
    "\n",
    "    def girar(self, grados):\n",
    "        self.rot=(self.rot+grados)%360\n",
    "\n",
    "    def descripcion(self):\n",
    "        return f\"X: {self.x} Y: {self.y} Rot: {self.rot}\"\n",
    "\n",
    "    def __distanciaEnX(self, x): #método privado\n",
    "        return abs(self.x-x)\n",
    "\n",
    "    def __distanciaEnY(self, y): #método privado\n",
    "        return abs(self.y-y)\n",
    "\n",
    "    def distancia(self, x,y):\n",
    "        return math.sqrt(self.__distanciaEnX(x)**2+self.__distanciaEnY(y)**2)\n",
    "\n",
    "    \n",
    "    @classmethod # Con este decorador se declaran los métodos de clase\n",
    "    def metodoDeClase(cls):\n",
    "        print(f\"Desde el método de clase puedo acceder a las variables de clase (maxvel={cls.maxVel}) u otros métodos de clase\")\n",
    "        return f\"Soy un método de la clase {cls}\"\n",
    "    \n",
    "    def metodoDeInstancia(self):\n",
    "        return f\"Soy un método de la instancia {self}\"\n",
    "\n",
    "    #Los métodos estáticos no reciben parámetro (no reciben ni instancia ni clase)\n",
    "    #Se usan habitualmente en clases abstractas que brindan métodos que dependen sólo de sus parámetros\n",
    "    @staticmethod\n",
    "    def metodoEstatico():\n",
    "        return f\"No puedo acceder a nada externo al método\"\n",
    "  \n",
    "r=Robot(0,0,90)\n",
    "r2=Robot(10,10,180)\n",
    "# print(r.descripcion())\n",
    "# r2.girar(250)\n",
    "# print(r2.descripcion())\n",
    "# r.girar(-180)\n",
    "# print(r.descripcion())\n",
    "# # print(r.__distanciaEnX(5))\n",
    "# print(r.distancia(3,4))\n",
    "print(Robot.metodoDeClase())\n",
    "print(r.metodoDeInstancia())\n",
    "print(Robot.metodoEstatico())\n",
    "\n",
    "#Las instancias pueden acceder a los métodos de clase o estáticos.\n",
    "print(\"Llamando desde una instancia: \", r.metodoDeClase())\n"
   ]
  },
  {
   "cell_type": "markdown",
   "metadata": {},
   "source": [
    "### Atributos públicos y privados\n",
    "\n",
    "Si no lo indicamos explícitamente, los atributos son públicos. Es decir, puedo acceder a su referencia desde el módulo donde creo los objetos de la clase. Como veremos más adelante, esto aumenta el acoplamiento, y por lo tanto, no es deseable implementarlo de esta manera. Por ejemplo, si deseáramos cambiar la estructura interna de los objetos de mi clase, esto tendría impacto en todos sus clientes, porque el acceso es directo. Si la forma de acceder a la estructura fuera indirecta, podemos cambiar todo lo que querramos mientras los métodos expuestos respeten el contrato original (qué le paso y qué devuelven)"
   ]
  },
  {
   "cell_type": "code",
   "execution_count": null,
   "metadata": {},
   "outputs": [],
   "source": [
    "class Robot:\n",
    "\n",
    "    def __init__(self, x, y, rot):\n",
    "        self.__x=x\n",
    "        self.__y=y\n",
    "        self.__rot=rot\n",
    "    \n",
    "    def dameX(self):\n",
    "        return self.__x\n",
    "\n",
    "    def definoX(self, valor):\n",
    "        self.__x=valor\n",
    "\n",
    "r=Robot(10,10,90)\n",
    "# print(r.__x)\n",
    "print(r.dameX())\n",
    "r.definoX(100)\n",
    "print(r.dameX())"
   ]
  },
  {
   "cell_type": "markdown",
   "metadata": {},
   "source": [
    "### Getters y Setters\n",
    "\n",
    "Este desacoplamiento es muy habitual (y muy bueno hacerlo así). La única molestia es que para la asignación del valor del atributo (lo que se conoce como ***setter***), debo usar un método en vez del tradicional \"=\". Y a su vez, para recuperar el valor (lo que se conoce como ***getter***), no alcanza con mencionarlo: también debo usar un método.  \n",
    "Para hacer más bonito el desacoplamiento de atributos, se definen decoradores (los indicadores con @) que nos permiten indicar cuál es el método getter y el setter, de forma tal que automáticamente funcionen con la asignación con \"=\" y con la mención del atributo, ejecutando el método correspondiente"
   ]
  },
  {
   "cell_type": "code",
   "execution_count": null,
   "metadata": {},
   "outputs": [],
   "source": [
    "# Utilizando decoradores para getters y setters\n",
    "class Robot:\n",
    "\n",
    "    def __init__(self, x, y, rot):\n",
    "        self.__x=x\n",
    "        self.__y=y\n",
    "        self.__rot=rot\n",
    "        self.__movimientosFuturos=[]\n",
    "\n",
    "    @property #decorador para el getter\n",
    "    def movimientosFuturos(self):\n",
    "        cad=\" \"\n",
    "        return cad.join(self.__movimientosFuturos)\n",
    "\n",
    "    @movimientosFuturos.setter #sdecorador para el setter\n",
    "    def movimientosFuturos(self, movs):\n",
    "        self.__movimientosFuturos=movs.split()\n",
    "    \n",
    "    def hacerMovimiento(self):\n",
    "        #Antes era un choclo...\n",
    "        if len(self.__movimientosFuturos)==0:\n",
    "            return \"No hay movimientos\"\n",
    "        else:\n",
    "            return self.__movimientosFuturos.pop()\n",
    "\n",
    "# Usando getters y setter parece que estoy accediendo directamente al atributo, pero en realidad lo tengo desacoplado por métodos.\n",
    "\n",
    "r=Robot(10,10,100)\n",
    "r.movimientosFuturos=\"Derecha Arriba Derecha\"\n",
    "print(r.movimientosFuturos)\n",
    "print(r.hacerMovimiento())\n",
    "print(r.movimientosFuturos)\n",
    "print(r.hacerMovimiento())\n",
    "print(r.hacerMovimiento())\n",
    "print(r.hacerMovimiento())"
   ]
  },
  {
   "cell_type": "markdown",
   "metadata": {},
   "source": [
    "## Herencia\n",
    "  \n",
    "Una clase *A* ***hereda*** de otra clase *B*, cuando los objetos de *A* extienden y / o modifican el comportamiento de los objetos de la clase *B*. Podríamos pensarlo como una especialización. El objeto de la clase *B* es una **especialización** de los objetos de la clase *A*. Los objetos de la clase *A* saben hacer lo mismo que los de la clase *B* (tal vez algunas cosas de otra manera), y tal vez saben hacer algunas cosas más.  \n"
   ]
  },
  {
   "cell_type": "markdown",
   "metadata": {},
   "source": [
    "La sintaxis para definir la herencia es la siguiente:\n",
    "\n",
    "> class *nombreDeClase*(*claseDeLaQueHereda*):  \n",
    ">   *código de la clase*\n",
    "\n",
    "Puedo sobreescribir métodos y atributos. Para determinar qué método utiliza para responder al mensaje, hace un ***lookup***, es decir, busca en la propia clase; si no hay método allí, buscar en su superclase (la clase madre) y así sucesivamente.\n",
    "\n",
    "En un método puedo invocar al método sobreescrito con el mensaje super().\n"
   ]
  }
 ],
 "metadata": {
  "kernelspec": {
   "display_name": "Python 3",
   "language": "python",
   "name": "python3"
  },
  "language_info": {
   "codemirror_mode": {
    "name": "ipython",
    "version": 3
   },
   "file_extension": ".py",
   "mimetype": "text/x-python",
   "name": "python",
   "nbconvert_exporter": "python",
   "pygments_lexer": "ipython3",
   "version": "3.7.7"
  }
 },
 "nbformat": 4,
 "nbformat_minor": 4
}

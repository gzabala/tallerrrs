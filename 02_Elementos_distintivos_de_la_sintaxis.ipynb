{
 "cells": [
  {
   "cell_type": "markdown",
   "id": "little-click",
   "metadata": {},
   "source": [
    "# Operadores"
   ]
  },
  {
   "cell_type": "code",
   "execution_count": null,
   "id": "extended-fashion",
   "metadata": {},
   "outputs": [],
   "source": [
    "# Para poner comentarios en una linea.\n",
    "# No tradicionales\n",
    "print(5**2)  # potenciación\n",
    "print(10%3)  # resto\n",
    "print(10//3)  # división entera\n",
    "# Multiplicación de cadenas???\n",
    "print(\"-\"*50)"
   ]
  },
  {
   "cell_type": "code",
   "execution_count": null,
   "id": "annoying-calculation",
   "metadata": {},
   "outputs": [],
   "source": [
    "# operadores de asignación aumentada\n",
    "var=10\n",
    "var=var+5\n",
    "var+=5\n",
    "var+=1\n",
    "print(var)\n",
    "var-=2\n",
    "print(var)\n",
    "var*=5\n",
    "print(var)"
   ]
  },
  {
   "cell_type": "code",
   "execution_count": null,
   "id": "stopped-disclosure",
   "metadata": {},
   "outputs": [],
   "source": [
    "# operadores de comparación y lógicos\n",
    "a=5\n",
    "b=12\n",
    "print(a==5) #Igual\n",
    "print(a!=b) #No igual\n",
    "print(a==5 and a!=b) #Operador lógico Y\n",
    "print(a==7 or a==b) #Operador lógico O"
   ]
  },
  {
   "cell_type": "markdown",
   "id": "swedish-printer",
   "metadata": {},
   "source": [
    "# Variables\n",
    " - Una sola palabra\n",
    " - Letras, números, y _\n",
    " - No empezar con números\n",
    " - Case sensitive\n",
    " - Tipado dinámico"
   ]
  },
  {
   "cell_type": "code",
   "execution_count": null,
   "id": "aquatic-baltimore",
   "metadata": {},
   "outputs": [],
   "source": [
    "# No declaramos el tipo de una variable\n",
    "var1=10\n",
    "Var1=12.5 #case sensitive\n",
    "var2, var3=15, 12 # curiosa forma de asignación\n",
    "print(\"var1 - Var1: \", var1, Var1) # no es lo mismo\n",
    "# Operador f antes de un string para combinar valores de variables\n",
    "# print(f\"Suma: {var2+var3}\")\n",
    "# Con type(expresión) puedo saber el tipo de la expresión\n",
    "#print(type(Var1))\n",
    "#Var1=\"casa\"\n",
    "#print(type(Var1))"
   ]
  },
  {
   "cell_type": "markdown",
   "id": "grateful-stomach",
   "metadata": {},
   "source": [
    "# Tipos de datos básicos\n",
    "\n",
    " - Enteros (int)\n",
    " - Punto flotante (float)\n",
    " - Complejos (complex)\n",
    " - Booleanos (boolean)\n",
    " - Cadenas (string)"
   ]
  },
  {
   "cell_type": "code",
   "execution_count": null,
   "id": "offensive-haven",
   "metadata": {},
   "outputs": [],
   "source": [
    "print(type(5))\n",
    "print(type(5.3))\n",
    "print(type(3+5j))\n",
    "print(type(5==3))"
   ]
  },
  {
   "cell_type": "code",
   "execution_count": null,
   "id": "elementary-drawing",
   "metadata": {},
   "outputs": [],
   "source": [
    "# A partir de 3.5 puedo usar type hints... No es una cuestión del intérprete, \n",
    "# es para legibilidad, o el uso de lints, y para autocompletado inteligente\n",
    "decimal:float=10.2\n",
    "print(decimal)\n",
    "decimal=\"Casa\"\n",
    "print(type(decimal))"
   ]
  }
 ],
 "metadata": {
  "kernelspec": {
   "display_name": "Python 3",
   "language": "python",
   "name": "python3"
  },
  "language_info": {
   "codemirror_mode": {
    "name": "ipython",
    "version": 3
   },
   "file_extension": ".py",
   "mimetype": "text/x-python",
   "name": "python",
   "nbconvert_exporter": "python",
   "pygments_lexer": "ipython3",
   "version": "3.7.7"
  }
 },
 "nbformat": 4,
 "nbformat_minor": 5
}

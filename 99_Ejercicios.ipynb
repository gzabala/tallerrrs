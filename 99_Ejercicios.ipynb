{
 "cells": [
  {
   "cell_type": "markdown",
   "id": "behavioral-houston",
   "metadata": {},
   "source": [
    "# Ejercicios\n",
    "\n",
    "1. Dado un número entero, imprimir la cantidad de dígitos.\n",
    "2. Dada una cadena, imprimir la primer palabra (la cadena sólo contiene letras y espacios)\n",
    "3. Dada una lista y un elemento, imprimir la lista a partir de ese elemento. Por ejemplo, si la lista es [4, 8, 3, 2, 7, 5] y el elemento es 3, imprimir [3, 2, 7, 5]\n",
    "4. Dada una cadena, indicar si están todos sus caracteres en mayúsculas (la cadena tiene caracteres alfanuméricos, numéricos y espacios).\n",
    "5. ¿Existe un método \"opuesto\" a join? Buscarlo y dar un ejemplo de uso. \"1,2,3,4,5\" -> [1, 2, 3, 4, 5]\n",
    "6. Dada una lista, imprimirla al revés.\n",
    "7. Dada una lista, el primer elemento debe pasar al final. Si la lista está vacía o tiene un único elemento, debe quedar igual.\n",
    "8. Dado un número entero, indicar cuál de sus dígitos es el mayor.  \n",
    "9. Dada una lista, indicar si tiene al menos un elemento repetido.\n",
    "10. Dada una palabra, imprimir \"Longitud válida\" si tiene 6 o más caracteres.\n",
    "11. Dado un número entero, imprimir la cantidad de ceros que hay al final del número.\n",
    "\n",
    "## Funciones\n",
    "1. Dada una cadena, devolver una lista dividiendo la cadena en subcadenas de dos caracteres. Si tiene un nro impar de caracteres, completar el último par con guión bajo. \"Un ejemplar\"->[\"Un\", \" e\", \"je\", \"mp\",\"la\", \"r_\"] \n",
    "2. Dada una cadena, devolver la cantidad de . que tiene al comienzo la cadena. \".....casa\"->5.\n",
    "3. Dado un conjunto de números, y un número aparte, devolver cuál es el número del conjunto más cercano al dado. {4,6,12,15,22}, 9->6 (podría haber devuelto 12 también)\n",
    "4. Dada una cadena, devolverla en formato \"correcto\": comenzando con mayúsculas y finalizando con un . \"esto es ejemplo\"->\"Esto es ejemplo.\"\n",
    "5. Dado una cadena, devolver la cadena con cada palabra invertida. La cadena tiene sólo caracteres alfanuméricos y espacios. \"Esto es ejemplo\"->\"otsE se olpmeje\"\n",
    "6. Dada una cadena, devolver la cantidad de dígitos que hay en la cadena. \"Acá tenemos 2 dígitos\"->1\n",
    "7. Dado un número M y varios diccionarios de la forma {\"prod\": \"manzana\", \"pre\":5.5}, devolver una lista con los M productos más caros. 2, {\"prod\":\"pan\", \"pre\": 100}, {\"prod\":\"arroz\", \"pre\": 50}, {\"prod\":\"leche\", \"pre\": 90}, {\"prod\":\"carne\", \"pre\": 300}->[{\"prod\":\"pan\", \"pre\": 100}, {\"prod\":\"carne\", \"pre\": 300}]\n",
    "8. Dadas una cadena C1, y una cadena C2, devolver la posición de la SEGUNDA vez que aparece C2 dentro de C1. Si no aparece o lo hace una sola vez, devolver None. \"Esto es una estatua\", \"st\"->13\n",
    "\n",
    "## Imágenes\n",
    "1. Transformar una foto, de forma tal que la mitad superior quede \"virada\" al rojo y la inferior al verde.\n",
    "2. Transformar una foto, haciendo un espejo con la mitad izquierda sobre la mitad derecha.\n",
    "3. Hacer lo mismo con el video.\n",
    "4. Tomar 24 cuadros sin mostrar (0 al 23), y a partir del 25, el cuadro que muestro se genera con las partes de los 24 anteriores. La primeras Altototal/24 líneas del cuadro 0, las siguientes del cuadro 1 y así sucesivamente.\n"
   ]
  }
 ],
 "metadata": {
  "kernelspec": {
   "display_name": "Python 3",
   "language": "python",
   "name": "python3"
  },
  "language_info": {
   "codemirror_mode": {
    "name": "ipython",
    "version": 3
   },
   "file_extension": ".py",
   "mimetype": "text/x-python",
   "name": "python",
   "nbconvert_exporter": "python",
   "pygments_lexer": "ipython3",
   "version": "3.7.7"
  }
 },
 "nbformat": 4,
 "nbformat_minor": 5
}

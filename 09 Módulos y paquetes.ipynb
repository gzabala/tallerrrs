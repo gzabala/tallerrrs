{
 "cells": [
  {
   "cell_type": "markdown",
   "metadata": {},
   "source": [
    "# Módulos y paquetes\n",
    "\n",
    "## Módulos  \n",
    "\n",
    "Un módulo es un script de Python cuyos miembros (funciones, clases, excepciones, etc) pueden ser accedidos desde otros scripts. \n",
    "  \n",
    "Para importar un módulo completo utilizamos la sintaxis  \n",
    ">import *modulo*\n",
    "\n",
    "De esta manera importo todos los miembros del módulo. Si lo hago así, luego debo nombrar a los miembros utilizando su namespace ***modulo.miembro***  \n",
    "  \n",
    "También puedo elegir qué miembros importar utilizando la sintaxis \n",
    "\n",
    ">from *modulo* import *lista de miembros separados por coma*\n",
    "\n",
    "Al importar de esta forma explícita, no hará falta indicar el namespace para el uso del miembro. Basta con nombrarlo.  \n",
    "  \n",
    "Ante nombres largos de módulo, o cuando veamos la estructura de paquetes, podemos utilizar **alias** para acortar su nomenclatura.\n",
    "\n",
    ">import *nombreDeModuloLargo* as *nom*\n",
    "\n",
    "A partir de esta declaración, podemos mencionar a sus miembros como  \n",
    "> *nom.miembro*\n",
    "\n",
    "Por último, si tienemos módulos que deseamos compartir con diferentes desarrollos en nuestra computadora, lo ubicamos en la carpeta lib de la instalación de nuestro Python."
   ]
  },
  {
   "cell_type": "markdown",
   "metadata": {},
   "source": [
    "## Paquetes  \n",
    "\n",
    "Un paquete es una carpeta o estructura de carpetas que contiene varios módulos. Para que Python reconozca la carpeta como paquete debemos agregarle un archivo **\\_\\_init__.py** dentro. En ese archivo podríamos poner código para que se ejecute al cargar un módulo de ese paquete, pero alcanza con que esté presente para identificarlo.\n",
    "\n",
    "Cuando realizamos un import de un módulo, Python realiza una búsqueda del módulo referenciado dentro de lo que se conoce como el System Path. Para averiguar cuáles son esas carpetas, podemos hacer el siguiente programa:\n"
   ]
  },
  {
   "cell_type": "code",
   "execution_count": 5,
   "metadata": {},
   "outputs": [
    {
     "name": "stdout",
     "output_type": "stream",
     "text": [
      "['c:\\\\Users\\\\Gonzalo\\\\OneDrive - uai.edu.ar\\\\Vaneduc\\\\Curso Python\\\\Contenido', 'c:\\\\python37\\\\python37.zip', 'c:\\\\python37\\\\DLLs', 'c:\\\\python37\\\\lib', 'c:\\\\python37', '', 'C:\\\\Users\\\\Gonzalo\\\\AppData\\\\Roaming\\\\Python\\\\Python37\\\\site-packages', 'c:\\\\python37\\\\lib\\\\site-packages', 'c:\\\\python37\\\\lib\\\\site-packages\\\\win32', 'c:\\\\python37\\\\lib\\\\site-packages\\\\win32\\\\lib', 'c:\\\\python37\\\\lib\\\\site-packages\\\\Pythonwin', 'c:\\\\python37\\\\lib\\\\site-packages\\\\IPython\\\\extensions', 'C:\\\\Users\\\\Gonzalo\\\\.ipython']\n"
     ]
    }
   ],
   "source": [
    "import sys\n",
    "print(sys.path)"
   ]
  }
 ],
 "metadata": {
  "kernelspec": {
   "display_name": "Python 3",
   "language": "python",
   "name": "python3"
  },
  "language_info": {
   "codemirror_mode": {
    "name": "ipython",
    "version": 3
   },
   "file_extension": ".py",
   "mimetype": "text/x-python",
   "name": "python",
   "nbconvert_exporter": "python",
   "pygments_lexer": "ipython3",
   "version": "3.7.7"
  }
 },
 "nbformat": 4,
 "nbformat_minor": 4
}

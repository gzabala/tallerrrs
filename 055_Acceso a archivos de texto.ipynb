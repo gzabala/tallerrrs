{
 "cells": [
  {
   "cell_type": "markdown",
   "id": "fitting-least",
   "metadata": {},
   "source": [
    "# Lectura y escritura de archivos\n",
    "\n",
    "**open(*nombreArchivo*, *modo*)** devuelve un objeto archivo.  \n",
    "Con el parámetro *encoding* indicamos el tipo de charset utilizado.  \n",
    "Con el parámetro *mode* podemos definir si será de lectura (\"r\", por defecto), escritura(\"w\"), append (\"a\") o se creará en el momento (\"x\"). Además se puede indicar si es de texto (\"t\", por defecto) o binario (\"b\").\n",
    "  \n",
    "Es una buena práctica utilizarlo dentro de la estructura *with*, que me asegura el cierre del archivo al finalizar el bloque:"
   ]
  },
  {
   "cell_type": "code",
   "execution_count": null,
   "id": "harmful-affiliate",
   "metadata": {},
   "outputs": [],
   "source": [
    "# Mantiene abierto mientras estoy en el with. Al salir lo cierra automáticamente.\n",
    "with open(\"quijote.txt\", encoding=\"utf8\") as archi: # archi es una referencia a un objeto de la clase File\n",
    "    print(type(archi))\n",
    "    texto=archi.read()\n",
    "    print(len(texto))\n",
    "    print(texto[:100])\n",
    "    print(\"Está cerrado?: \",archi.closed)\n",
    "\n",
    "print(\"Está cerrado ahora?: \",archi.closed)"
   ]
  },
  {
   "cell_type": "code",
   "execution_count": null,
   "id": "brave-verse",
   "metadata": {},
   "outputs": [],
   "source": [
    "# En este caso debo acordarme de cerrarlo.\n",
    "archi=open(\"quijote.txt\", encoding=\"utf8\")\n",
    "texto=archi.read()\n",
    "print(len(texto))\n",
    "print(texto[:100])\n",
    "print(\"Está cerrado?: \",archi.closed)\n",
    "archi.close()\n",
    "print(\"Está cerrado?: \",archi.closed)"
   ]
  },
  {
   "cell_type": "markdown",
   "id": "meaning-letter",
   "metadata": {},
   "source": [
    "## Métodos de los objetos de la clase File\n",
    "\n",
    " - read(): lee todo el archivo.\n",
    " - read(*n*): lee los ***siguientes n*** caracteres del archivo (puntero mientras esté abierto).\n",
    " - readline(): lee una línea (hasta \\n). También se puede leer de a líneas recorriendo el objeto de la clase File.\n",
    " - write(*cadena*): escribe la cadena en el archivo devolviendo la cantidad de caracteres."
   ]
  },
  {
   "cell_type": "code",
   "execution_count": null,
   "id": "passing-fundamental",
   "metadata": {},
   "outputs": [],
   "source": [
    "with open(\"quijote.txt\", encoding=\"utf8\") as archi:\n",
    "    for i in range(1,10):\n",
    "        texto=archi.read(4)+\"-\"\n",
    "        print(texto)\n",
    "        print(\"---\")\n",
    "\n",
    "# Pierde el puntero del read cuando cierra el archivo\n",
    "print(\"#######\")\n",
    "with open(\"quijote.txt\", encoding=\"utf8\") as archi:\n",
    "    texto=archi.read(4)+\"-\"\n",
    "    print(texto)\n",
    "    print(\"---\")\n"
   ]
  },
  {
   "cell_type": "code",
   "execution_count": null,
   "id": "passing-montana",
   "metadata": {},
   "outputs": [],
   "source": [
    "with open(\"quijote.txt\", encoding=\"utf8\") as archi:\n",
    "    for i in range(1,30):\n",
    "        linea=archi.readline()\n",
    "        linea=linea.rstrip() #Elimina caracteres de la derecha. Si paso como parámetro una cadena de caracteres, elimina esos.\n",
    "        #Si no, saca espacios\n",
    "        print(i, linea)\n",
    "        print(\"---\")"
   ]
  },
  {
   "cell_type": "code",
   "execution_count": null,
   "id": "threaded-steel",
   "metadata": {
    "tags": [
     "outputPrepend"
    ]
   },
   "outputs": [],
   "source": [
    "# Si recorro con una estructura for el archivo, va levantando línea por línea (el archivo es una secuencia de líneas)\n",
    "with open(\"quijote.txt\", encoding=\"utf8\") as archi:\n",
    "    for linea in archi:\n",
    "        linea=linea.rstrip()\n",
    "        if len(linea)!=0:\n",
    "            print(linea)\n",
    "            print(\"---\")"
   ]
  },
  {
   "cell_type": "code",
   "execution_count": null,
   "id": "ignored-newport",
   "metadata": {},
   "outputs": [],
   "source": [
    "with open(\"test.txt\", encoding=\"utf8\", mode=\"at\") as archi:\n",
    "    resu=archi.write(\"Esto suma caracteres\\n\") #Devuelve la cantidad de caracteres escritos.\n",
    "print(resu)"
   ]
  },
  {
   "cell_type": "markdown",
   "id": "crude-costa",
   "metadata": {},
   "source": [
    "Problemas con el encoding"
   ]
  },
  {
   "cell_type": "code",
   "execution_count": null,
   "id": "nearby-administration",
   "metadata": {},
   "outputs": [],
   "source": [
    "# ¿Qué pasa si no pongo el encoding?\n",
    "with open(\"quijote.txt\") as archi:\n",
    "    for linea in archi:\n",
    "        linea=linea.rstrip()\n",
    "        if len(linea)!=0:\n",
    "            print(linea)\n",
    "            print(\"---\")"
   ]
  },
  {
   "cell_type": "code",
   "execution_count": null,
   "id": "sound-harris",
   "metadata": {},
   "outputs": [],
   "source": [
    "# Esto va a ser un problema si lo quiero abrir con algo que me exige utf8\n",
    "with open(\"test.txt\", mode=\"at\") as archi:\n",
    "    resu=archi.write(\"¿ññÑÑáéíóúï\\n\") #Devuelve la cantidad de caracteres escritos.\n",
    "print(resu)"
   ]
  }
 ],
 "metadata": {
  "kernelspec": {
   "display_name": "Python 3",
   "language": "python",
   "name": "python3"
  },
  "language_info": {
   "codemirror_mode": {
    "name": "ipython",
    "version": 3
   },
   "file_extension": ".py",
   "mimetype": "text/x-python",
   "name": "python",
   "nbconvert_exporter": "python",
   "pygments_lexer": "ipython3",
   "version": "3.7.7"
  }
 },
 "nbformat": 4,
 "nbformat_minor": 5
}

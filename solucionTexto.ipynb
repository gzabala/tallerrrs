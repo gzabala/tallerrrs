{
 "cells": [
  {
   "cell_type": "code",
   "execution_count": 5,
   "metadata": {},
   "outputs": [],
   "source": [
    "yaPasoLineaVacia=False\n",
    "with open(\"quijote.txt\", encoding=\"utf-8\", mode=\"rt\") as archi, open(\"quijoteej1.txt\", encoding=\"utf-8\", mode=\"wt\") as salida:\n",
    "    for linea in archi:\n",
    "        if len(linea.strip())==0:\n",
    "            lineaVacia=True\n",
    "        else:\n",
    "            lineaVacia=False\n",
    "        \n",
    "        if not lineaVacia:\n",
    "            salida.write(linea)\n",
    "            yaPasoLineaVacia=False\n",
    "        elif not yaPasoLineaVacia:\n",
    "            salida.write(linea)\n",
    "            yaPasoLineaVacia=True\n",
    "        "
   ]
  }
 ],
 "metadata": {
  "kernelspec": {
   "display_name": "Python 3",
   "language": "python",
   "name": "python3"
  },
  "language_info": {
   "codemirror_mode": {
    "name": "ipython",
    "version": 3
   },
   "file_extension": ".py",
   "mimetype": "text/x-python",
   "name": "python",
   "nbconvert_exporter": "python",
   "pygments_lexer": "ipython3",
   "version": "3.10.10"
  }
 },
 "nbformat": 4,
 "nbformat_minor": 2
}

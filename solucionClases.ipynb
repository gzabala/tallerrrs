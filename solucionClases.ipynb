{
 "cells": [
  {
   "cell_type": "markdown",
   "metadata": {},
   "source": [
    "1. Crear la clase Perro, con los atributos color, nombre, edad, raza.\n",
    "Crear el constructor que recibe color, nombre y raza. La edad por defecto es 0.\n",
    "Crear un método que imprima todos los atributos.\n",
    "Crear un método de instancia felizCumple, que aumenta la edad en 1.\n",
    "\n",
    "2. Agregar el atributo hambre, que va a tener un valor entre 0 y 5. 0 es no hambriento, 5 es muy hambriento. Cuando se crea, arranca en nivel 3. Crear un método de instancia alimentar, que reciba una cantidad de comida y disminuya el hambre en esa cantidad. Si el hambre llega a 0, imprimir \"Estoy lleno!\".\n",
    "\n",
    "3. Crear la clase Circulo, con el atributo radio. Crear el constructor que recibe el radio. Crear un método que calcule el área. Crear un método que calcule el perímetro.\n",
    "\n",
    "4. Crear la clase RobotLucha, con el atributo fuerza (valor entre 1 y 10), y vivo (valor True o False, arranca en True). Crear el constructor que recibe la fuerza. Crear un método agregarFuerza(valor), que aumenta la fuerza en ese valor, no superando 10. Crear el método de instancia luchar(otroRobot), que recibe otro robot y devuelve True o False si ganó el robot que recibió el método, y disminuye su fuerza en el valor de fuerza que tenía el otro robot. El robot que pierde pasa su atributo vivo a False."
   ]
  },
  {
   "cell_type": "code",
   "execution_count": 8,
   "metadata": {},
   "outputs": [
    {
     "name": "stdout",
     "output_type": "stream",
     "text": [
      "El perro Bobby es de raza Pastor Aleman, color rojo, tiene 0 años de edad y su nivel de hambre es 3.\n",
      "0\n",
      "El perro Bobby es de raza Pastor Aleman, color rojo, tiene 0 años de edad y su nivel de hambre es 2.\n",
      "0\n",
      "El perro Bobby es de raza Pastor Aleman, color rojo, tiene 0 años de edad y su nivel de hambre es 1.\n",
      "Estoy lleno!\n",
      "99\n",
      "El perro Bobby es de raza Pastor Aleman, color rojo, tiene 0 años de edad y su nivel de hambre es 0.\n"
     ]
    }
   ],
   "source": [
    "class Perro:\n",
    "    def __init__(self, color, nombre, raza):\n",
    "        self.color = color\n",
    "        self.nombre = nombre\n",
    "        self.raza = raza\n",
    "        self.edad=0\n",
    "        self.hambre=3\n",
    "\n",
    "    # def imprime(self):\n",
    "    #     print(f\"El perro {self.nombre} es de raza {self.raza}, color {self.color} y tiene {self.edad} años de edad.\")\n",
    "\n",
    "    def __str__(self):\n",
    "        return f\"El perro {self.nombre} es de raza {self.raza}, color {self.color}, tiene {self.edad} años de edad y su nivel de hambre es {self.hambre}.\"\n",
    "    \n",
    "    def felizCumple(self):\n",
    "        self.edad+=1\n",
    "    \n",
    "    def alimentar(self, comida):\n",
    "        sobra=comida-self.hambre\n",
    "        if sobra<0:\n",
    "            sobra=0\n",
    "        self.hambre-=comida\n",
    "\n",
    "        if self.hambre<=0:\n",
    "            self.hambre=0\n",
    "            print(\"Estoy lleno!\")\n",
    "        return sobra\n",
    "\n",
    "bobby=Perro(\"rojo\", \"Bobby\", \"Pastor Aleman\")\n",
    "print(bobby)\n",
    "print(bobby.alimentar(1))\n",
    "print(bobby)\n",
    "print(bobby.alimentar(1))\n",
    "print(bobby)\n",
    "print(bobby.alimentar(100))\n",
    "print(bobby)"
   ]
  },
  {
   "cell_type": "code",
   "execution_count": 9,
   "metadata": {},
   "outputs": [
    {
     "name": "stdout",
     "output_type": "stream",
     "text": [
      "3.141592653589793\n"
     ]
    }
   ],
   "source": [
    "import math\n",
    "\n",
    "class Circulo:\n",
    "    def __init__(self, radio):\n",
    "        self.radio=radio\n",
    "\n",
    "    def area(self):\n",
    "        return math.pi*self.radio**2\n",
    "\n",
    "    def perimetro(self):\n",
    "        return 2*math.pi*self.radio"
   ]
  }
 ],
 "metadata": {
  "kernelspec": {
   "display_name": "Python 3",
   "language": "python",
   "name": "python3"
  },
  "language_info": {
   "codemirror_mode": {
    "name": "ipython",
    "version": 3
   },
   "file_extension": ".py",
   "mimetype": "text/x-python",
   "name": "python",
   "nbconvert_exporter": "python",
   "pygments_lexer": "ipython3",
   "version": "3.10.10"
  }
 },
 "nbformat": 4,
 "nbformat_minor": 2
}
